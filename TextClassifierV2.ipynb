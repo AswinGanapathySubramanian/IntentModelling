{
 "cells": [
  {
   "cell_type": "code",
   "execution_count": 2,
   "metadata": {},
   "outputs": [],
   "source": [
    "#importing the libraries\n",
    "import pandas as pd \n",
    "import numpy as np \n",
    "import matplotlib.pyplot as plt \n",
    "import nltk\n",
    "import custom_preprocessor as cp\n",
    "import featurizer as f\n",
    "import plot_learning_curve as plc\n",
    "\n",
    "import torch\n",
    "import torch.nn as nn\n",
    "import torch.nn.functional as F\n",
    "from torchtext.vocab import  vocab\n",
    "from torch.optim.lr_scheduler import ReduceLROnPlateau, OneCycleLR, StepLR\n",
    "from torch.utils.data import Dataset, DataLoader\n",
    "\n",
    "import random\n",
    "from datetime import datetime\n",
    "import numpy as np\n",
    "import pandas as pd\n",
    "import joblib\n",
    "from collections import Counter\n",
    "from types import SimpleNamespace\n",
    "import wandb\n",
    "\n",
    "from sklearn.model_selection import train_test_split\n",
    "from sklearn.feature_extraction.text import  TfidfVectorizer\n",
    "from sklearn.preprocessing import MultiLabelBinarizer\n",
    "from sklearn.metrics import f1_score"
   ]
  },
  {
   "cell_type": "code",
   "execution_count": 3,
   "metadata": {},
   "outputs": [
    {
     "name": "stderr",
     "output_type": "stream",
     "text": [
      "Failed to detect the name of this notebook, you can set it manually with the WANDB_NOTEBOOK_NAME environment variable to enable code saving.\n",
      "\u001b[34m\u001b[1mwandb\u001b[0m: Currently logged in as: \u001b[33maswin1903\u001b[0m. Use \u001b[1m`wandb login --relogin`\u001b[0m to force relogin\n"
     ]
    },
    {
     "data": {
      "text/plain": [
       "True"
      ]
     },
     "execution_count": 3,
     "metadata": {},
     "output_type": "execute_result"
    }
   ],
   "source": [
    "wandb.login()"
   ]
  },
  {
   "cell_type": "code",
   "execution_count": 4,
   "metadata": {},
   "outputs": [],
   "source": [
    "#Reading the data \n",
    "a=pd.read_excel(\"IntentData2.xlsx\",sheet_name=\"Set 1\")"
   ]
  },
  {
   "cell_type": "code",
   "execution_count": 5,
   "metadata": {},
   "outputs": [],
   "source": [
    "b=pd.read_excel(\"IntentData2.xlsx\",sheet_name=\"Set 2\")"
   ]
  },
  {
   "cell_type": "code",
   "execution_count": 6,
   "metadata": {},
   "outputs": [],
   "source": [
    "df=pd.concat([a,b],axis=0)"
   ]
  },
  {
   "cell_type": "code",
   "execution_count": 7,
   "metadata": {},
   "outputs": [
    {
     "data": {
      "text/html": [
       "<div>\n",
       "<style scoped>\n",
       "    .dataframe tbody tr th:only-of-type {\n",
       "        vertical-align: middle;\n",
       "    }\n",
       "\n",
       "    .dataframe tbody tr th {\n",
       "        vertical-align: top;\n",
       "    }\n",
       "\n",
       "    .dataframe thead th {\n",
       "        text-align: right;\n",
       "    }\n",
       "</style>\n",
       "<table border=\"1\" class=\"dataframe\">\n",
       "  <thead>\n",
       "    <tr style=\"text-align: right;\">\n",
       "      <th></th>\n",
       "      <th>Original Comment</th>\n",
       "      <th>Positive</th>\n",
       "      <th>Negative (Other)</th>\n",
       "      <th>Not Resolved</th>\n",
       "      <th>Hold</th>\n",
       "      <th>Follow-up, Communication</th>\n",
       "      <th>Knowledge</th>\n",
       "      <th>Effort</th>\n",
       "      <th>Professionalism</th>\n",
       "    </tr>\n",
       "  </thead>\n",
       "  <tbody>\n",
       "    <tr>\n",
       "      <th>0</th>\n",
       "      <td>Nothing has been resolved. We have been dealin...</td>\n",
       "      <td>NaN</td>\n",
       "      <td>NaN</td>\n",
       "      <td>Nothing has been resolved; dealing with the in...</td>\n",
       "      <td>NaN</td>\n",
       "      <td>NaN</td>\n",
       "      <td>NaN</td>\n",
       "      <td>NaN</td>\n",
       "      <td>NaN</td>\n",
       "    </tr>\n",
       "    <tr>\n",
       "      <th>1</th>\n",
       "      <td>Very professional and courteous</td>\n",
       "      <td>NaN</td>\n",
       "      <td>NaN</td>\n",
       "      <td>NaN</td>\n",
       "      <td>NaN</td>\n",
       "      <td>NaN</td>\n",
       "      <td>NaN</td>\n",
       "      <td>NaN</td>\n",
       "      <td>NaN</td>\n",
       "    </tr>\n",
       "    <tr>\n",
       "      <th>2</th>\n",
       "      <td>Thank you so much for the excellent customer s...</td>\n",
       "      <td>Thank you so much for the excellent customer s...</td>\n",
       "      <td>NaN</td>\n",
       "      <td>NaN</td>\n",
       "      <td>NaN</td>\n",
       "      <td>NaN</td>\n",
       "      <td>NaN</td>\n",
       "      <td>NaN</td>\n",
       "      <td>NaN</td>\n",
       "    </tr>\n",
       "    <tr>\n",
       "      <th>3</th>\n",
       "      <td>Impressively fast service. Thank you for corre...</td>\n",
       "      <td>impressively fast service; thank you for corre...</td>\n",
       "      <td>NaN</td>\n",
       "      <td>NaN</td>\n",
       "      <td>NaN</td>\n",
       "      <td>NaN</td>\n",
       "      <td>NaN</td>\n",
       "      <td>NaN</td>\n",
       "      <td>NaN</td>\n",
       "    </tr>\n",
       "    <tr>\n",
       "      <th>4</th>\n",
       "      <td>Way too long waiting time!  Insane to wait 1 h...</td>\n",
       "      <td>NaN</td>\n",
       "      <td>NaN</td>\n",
       "      <td>NaN</td>\n",
       "      <td>way too long waiting time; insane to wait 1 ho...</td>\n",
       "      <td>NaN</td>\n",
       "      <td>NaN</td>\n",
       "      <td>NaN</td>\n",
       "      <td>NaN</td>\n",
       "    </tr>\n",
       "  </tbody>\n",
       "</table>\n",
       "</div>"
      ],
      "text/plain": [
       "                                    Original Comment  \\\n",
       "0  Nothing has been resolved. We have been dealin...   \n",
       "1                    Very professional and courteous   \n",
       "2  Thank you so much for the excellent customer s...   \n",
       "3  Impressively fast service. Thank you for corre...   \n",
       "4  Way too long waiting time!  Insane to wait 1 h...   \n",
       "\n",
       "                                            Positive Negative (Other)  \\\n",
       "0                                                NaN              NaN   \n",
       "1                                                NaN              NaN   \n",
       "2  Thank you so much for the excellent customer s...              NaN   \n",
       "3  impressively fast service; thank you for corre...              NaN   \n",
       "4                                                NaN              NaN   \n",
       "\n",
       "                                        Not Resolved  \\\n",
       "0  Nothing has been resolved; dealing with the in...   \n",
       "1                                                NaN   \n",
       "2                                                NaN   \n",
       "3                                                NaN   \n",
       "4                                                NaN   \n",
       "\n",
       "                                                Hold Follow-up, Communication  \\\n",
       "0                                                NaN                      NaN   \n",
       "1                                                NaN                      NaN   \n",
       "2                                                NaN                      NaN   \n",
       "3                                                NaN                      NaN   \n",
       "4  way too long waiting time; insane to wait 1 ho...                      NaN   \n",
       "\n",
       "  Knowledge Effort Professionalism  \n",
       "0       NaN    NaN             NaN  \n",
       "1       NaN    NaN             NaN  \n",
       "2       NaN    NaN             NaN  \n",
       "3       NaN    NaN             NaN  \n",
       "4       NaN    NaN             NaN  "
      ]
     },
     "execution_count": 7,
     "metadata": {},
     "output_type": "execute_result"
    }
   ],
   "source": [
    "df.head()"
   ]
  },
  {
   "cell_type": "code",
   "execution_count": 8,
   "metadata": {},
   "outputs": [],
   "source": [
    "positive=df.Positive.unique()\n",
    "cleaned_positive = positive[~pd.isnull(positive)]"
   ]
  },
  {
   "cell_type": "code",
   "execution_count": 9,
   "metadata": {},
   "outputs": [],
   "source": [
    "negative=df['Negative (Other)'].unique()\n",
    "cleaned_negative = negative[~pd.isnull(negative)]"
   ]
  },
  {
   "cell_type": "code",
   "execution_count": 10,
   "metadata": {},
   "outputs": [],
   "source": [
    "not_res=df['Not Resolved'].unique()\n",
    "cleaned_not_res = not_res[~pd.isnull(not_res)]"
   ]
  },
  {
   "cell_type": "code",
   "execution_count": 11,
   "metadata": {},
   "outputs": [],
   "source": [
    "hold=df['Hold'].unique()\n",
    "cleaned_hold = hold[~pd.isnull(hold)]"
   ]
  },
  {
   "cell_type": "code",
   "execution_count": 12,
   "metadata": {},
   "outputs": [],
   "source": [
    "follow=df[\"Follow-up, Communication\"].unique()\n",
    "cleaned_follow=follow[~pd.isnull(follow)]"
   ]
  },
  {
   "cell_type": "code",
   "execution_count": 13,
   "metadata": {},
   "outputs": [],
   "source": [
    "know=df[\"Knowledge\"].unique()\n",
    "cleaned_know=know[~pd.isnull(know)]"
   ]
  },
  {
   "cell_type": "code",
   "execution_count": 14,
   "metadata": {},
   "outputs": [],
   "source": [
    "effort=df[\"Effort\"].unique()\n",
    "cleaned_effort=effort[~pd.isnull(effort)]"
   ]
  },
  {
   "cell_type": "code",
   "execution_count": 15,
   "metadata": {},
   "outputs": [],
   "source": [
    "prof=df[\"Professionalism\"].unique()\n",
    "cleaned_prof=prof[~pd.isnull(prof)]"
   ]
  },
  {
   "cell_type": "code",
   "execution_count": 16,
   "metadata": {},
   "outputs": [],
   "source": [
    "target_mapping = {\n",
    "    'Positive': cleaned_positive, 'Negative (Other)':cleaned_negative, 'Not Resolved':cleaned_not_res,\n",
    "       'Hold':cleaned_hold, 'Follow-up, Communication': cleaned_follow, 'Knowledge':cleaned_know, 'Effort':cleaned_effort,\n",
    "       'Professionalism':cleaned_prof\n",
    "}"
   ]
  },
  {
   "cell_type": "code",
   "execution_count": 17,
   "metadata": {},
   "outputs": [
    {
     "name": "stdout",
     "output_type": "stream",
     "text": [
      "<class 'pandas.core.frame.DataFrame'>\n",
      "Index: 700 entries, 0 to 499\n",
      "Data columns (total 9 columns):\n",
      " #   Column                    Non-Null Count  Dtype \n",
      "---  ------                    --------------  ----- \n",
      " 0   Original Comment          693 non-null    object\n",
      " 1   Positive                  252 non-null    object\n",
      " 2   Negative (Other)          82 non-null     object\n",
      " 3   Not Resolved              109 non-null    object\n",
      " 4   Hold                      8 non-null      object\n",
      " 5   Follow-up, Communication  87 non-null     object\n",
      " 6   Knowledge                 21 non-null     object\n",
      " 7   Effort                    89 non-null     object\n",
      " 8   Professionalism           30 non-null     object\n",
      "dtypes: object(9)\n",
      "memory usage: 54.7+ KB\n"
     ]
    }
   ],
   "source": [
    "df.info()"
   ]
  },
  {
   "cell_type": "code",
   "execution_count": 18,
   "metadata": {},
   "outputs": [],
   "source": [
    "target = []\n",
    "\n",
    "# Iterate through rows\n",
    "\n",
    "for index, row in df.iterrows():\n",
    "\n",
    "    non_nan_columns = [column for column in df.columns[1:] if not pd.isna(row[column])]\n",
    "\n",
    "    target.append(non_nan_columns)\n",
    "\n",
    "df['Target'] = target"
   ]
  },
  {
   "cell_type": "code",
   "execution_count": 19,
   "metadata": {},
   "outputs": [],
   "source": [
    "df1=df[[\"Original Comment\",\"Target\"]]"
   ]
  },
  {
   "cell_type": "code",
   "execution_count": 20,
   "metadata": {},
   "outputs": [
    {
     "data": {
      "text/plain": [
       "249"
      ]
     },
     "execution_count": 20,
     "metadata": {},
     "output_type": "execute_result"
    }
   ],
   "source": [
    "#Finding the number of missing targets\n",
    "len(df1[df1['Target'].apply(len) == 0])"
   ]
  },
  {
   "cell_type": "code",
   "execution_count": 21,
   "metadata": {},
   "outputs": [],
   "source": [
    "df2=df1[df1['Target'].apply(len) != 0]"
   ]
  },
  {
   "cell_type": "code",
   "execution_count": 22,
   "metadata": {},
   "outputs": [
    {
     "data": {
      "text/plain": [
       "451"
      ]
     },
     "execution_count": 22,
     "metadata": {},
     "output_type": "execute_result"
    }
   ],
   "source": [
    "#Number of records with the target columns:\n",
    "len(df2)"
   ]
  },
  {
   "cell_type": "code",
   "execution_count": 23,
   "metadata": {},
   "outputs": [
    {
     "data": {
      "text/plain": [
       "Index(['Original Comment', 'Positive', 'Negative (Other)', 'Not Resolved',\n",
       "       'Hold', 'Follow-up, Communication', 'Knowledge', 'Effort',\n",
       "       'Professionalism', 'Target'],\n",
       "      dtype='object')"
      ]
     },
     "execution_count": 23,
     "metadata": {},
     "output_type": "execute_result"
    }
   ],
   "source": [
    "df.columns"
   ]
  },
  {
   "cell_type": "code",
   "execution_count": 24,
   "metadata": {},
   "outputs": [
    {
     "name": "stderr",
     "output_type": "stream",
     "text": [
      "d:\\Github repos\\IntentModelling\\custom_preprocessor.py:40: MarkupResemblesLocatorWarning: The input looks more like a filename than markup. You may want to open this file and pass the filehandle into Beautiful Soup.\n",
      "  if (bool(BeautifulSoup(text, \"html.parser\").find())==True):\n"
     ]
    }
   ],
   "source": [
    "#Preprocessing the verbatim\n",
    "preprocessor= cp.SpacyPreprocessor(model=\"en_core_web_sm\",lammetize=False, remove_stop=False)\n",
    "cleaned_text= preprocessor.fit_transform(df2['Original Comment'].values)"
   ]
  },
  {
   "cell_type": "code",
   "execution_count": 25,
   "metadata": {},
   "outputs": [
    {
     "name": "stderr",
     "output_type": "stream",
     "text": [
      "C:\\Users\\aswin\\AppData\\Local\\Temp\\ipykernel_83048\\1542965680.py:1: SettingWithCopyWarning: \n",
      "A value is trying to be set on a copy of a slice from a DataFrame.\n",
      "Try using .loc[row_indexer,col_indexer] = value instead\n",
      "\n",
      "See the caveats in the documentation: https://pandas.pydata.org/pandas-docs/stable/user_guide/indexing.html#returning-a-view-versus-a-copy\n",
      "  df2[\"cleaned_text\"]=cleaned_text\n"
     ]
    }
   ],
   "source": [
    "df2[\"cleaned_text\"]=cleaned_text"
   ]
  },
  {
   "cell_type": "code",
   "execution_count": 26,
   "metadata": {},
   "outputs": [],
   "source": [
    "#Defining the Target Labels\n",
    "target_labels=['Positive', 'Negative (Other)', 'Not Resolved',\n",
    "       'Hold', 'Follow-up, Communication', 'Knowledge', 'Effort',\n",
    "       'Professionalism']\n",
    "\n",
    "# Initialize and fit the MultiLabelBinarizer\n",
    "mlb = MultiLabelBinarizer()\n",
    "encoded_targets = mlb.fit_transform(df2['Target'].apply(lambda x: [label for label in x if label in target_labels]))\n"
   ]
  },
  {
   "cell_type": "code",
   "execution_count": 27,
   "metadata": {},
   "outputs": [],
   "source": [
    "#Separating the features and target\n",
    "X=df2[\"cleaned_text\"]\n",
    "y=encoded_targets"
   ]
  },
  {
   "cell_type": "code",
   "execution_count": 28,
   "metadata": {},
   "outputs": [],
   "source": [
    "#Creating a train test split\n",
    "X_train,X_test1,y_train,y_test1=train_test_split(X,y,test_size=0.1,random_state=42)\n",
    "X_test, X_valid, y_test, y_valid = train_test_split(X_test1, y_test1, test_size= 0.5, random_state= 0)"
   ]
  },
  {
   "cell_type": "code",
   "execution_count": 29,
   "metadata": {},
   "outputs": [],
   "source": [
    "#Creating a Custom Dataset \n",
    "class CustomDataset(torch.utils.data.Dataset):\n",
    "\n",
    "    def __init__(self,X,y):\n",
    "        self.X=np.array(X)\n",
    "        self.y=y\n",
    "    \n",
    "    def __len__(self):\n",
    "        return(len(self.X))\n",
    "\n",
    "    def __getitem__(self,idx):\n",
    "        if torch.is_tensor(idx):\n",
    "            idx=idx.tolist()\n",
    "        text=self.X[idx]\n",
    "        labels=self.y[idx]\n",
    "        sample=(text,labels)\n",
    "        return sample\n"
   ]
  },
  {
   "cell_type": "code",
   "execution_count": 30,
   "metadata": {},
   "outputs": [],
   "source": [
    "train_set=CustomDataset(X_train,y_train)\n",
    "valid_set=CustomDataset(X_valid,y_valid)\n",
    "test_Set=CustomDataset(X_test,y_test)"
   ]
  },
  {
   "cell_type": "code",
   "execution_count": 31,
   "metadata": {},
   "outputs": [],
   "source": [
    "#Vectorizing using tfidf vectorizer\n",
    "vectorizer=TfidfVectorizer(stop_words=\"english\",min_df=4,max_features=5000).fit(X_train)"
   ]
  },
  {
   "cell_type": "code",
   "execution_count": 32,
   "metadata": {},
   "outputs": [],
   "source": [
    "X_train_vec=vectorizer.transform(X_train)\n",
    "X_test_vec=vectorizer.transform(X_test)\n",
    "X_valid_vec=vectorizer.transform(X_valid)"
   ]
  },
  {
   "cell_type": "code",
   "execution_count": 33,
   "metadata": {},
   "outputs": [],
   "source": [
    "#Converting to Tensor\n",
    "X_train_tensor=torch.tensor(X_train_vec.toarray()).float()\n",
    "X_valid_tensor=torch.tensor(X_valid_vec.toarray()).float()\n",
    "X_test_tensor=torch.tensor(X_test_vec.toarray()).float()"
   ]
  },
  {
   "cell_type": "code",
   "execution_count": 34,
   "metadata": {},
   "outputs": [],
   "source": [
    "y_train_tensor=torch.tensor(np.array(y_train)).long()\n",
    "y_valid_tensor=torch.tensor(np.array(y_valid)).long()\n",
    "y_test_tensor=torch.tensor(np.array(y_test)).long()\n"
   ]
  },
  {
   "cell_type": "code",
   "execution_count": 35,
   "metadata": {},
   "outputs": [],
   "source": [
    "#Creating a torch dataset\n",
    "train_set =torch.utils.data.TensorDataset(X_train_tensor,y_train_tensor)\n",
    "valid_set=torch.utils.data.TensorDataset(X_valid_tensor,y_valid_tensor)\n",
    "test_set=torch.utils.data.TensorDataset(X_test_tensor,y_test_tensor)"
   ]
  },
  {
   "cell_type": "code",
   "execution_count": 36,
   "metadata": {},
   "outputs": [],
   "source": [
    "#Creating Model\n",
    "\n",
    "class Model(nn.Module):\n",
    "\n",
    "    def __init__(self,input_dim,hidden_dim1,hidden_dim2,output_dim,non_linearity):\n",
    "        self.input_dim=input_dim\n",
    "        self.hidden_dim1=hidden_dim1\n",
    "        self.hidden_dim2=hidden_dim2\n",
    "        self.output_dim=output_dim\n",
    "        self.non_linearity=non_linearity\n",
    "\n",
    "        super().__init__()\n",
    "\n",
    "        #hidden layer1\n",
    "        self.hidden_layer1=nn.Linear(self.input_dim,self.hidden_dim1)\n",
    "        #hidden layer2\n",
    "        self.hidden_layer2=nn.Linear(self.hidden_dim1,self.hidden_dim2)\n",
    "        #output layer\n",
    "        self.output_layer=nn.Linear(self.hidden_dim2,self.output_dim)\n",
    "\n",
    "    def forward(self,input):\n",
    "        hout1=self.non_linearity(self.hidden_layer1(input))\n",
    "        hout2=self.non_linearity(self.hidden_layer2(hout1))\n",
    "        ypred=self.output_layer(hout2)\n",
    "\n",
    "        return ypred"
   ]
  },
  {
   "cell_type": "code",
   "execution_count": 37,
   "metadata": {},
   "outputs": [],
   "source": [
    "#Training model for each epoch \n",
    "def train(train_loader, model,optimizer,loss_function,log_batch,log_interval,grad_clipping,max_norm):\n",
    "\n",
    "    #initializing variable as global \n",
    "    #Count will be updated for every epoch\n",
    "    global example_ct_train\n",
    "    global batch_ct_train\n",
    "\n",
    "    #Training loop \n",
    "    #Initializing the train_loss at the the start of the epoch\n",
    "    running_train_loss=0\n",
    "\n",
    "    #Put model in training mode\n",
    "    model.train()\n",
    "\n",
    "    #Iterate on batches from the dataset using train_loader\n",
    "    for input,targets in train_loader:\n",
    "        # move inputs and outputs to GPUs\n",
    "        input = input.to(device)\n",
    "        targets = targets.to(device)\n",
    "\n",
    "        #Forward pass\n",
    "        output=model(input)\n",
    "        loss=loss_function(output,targets.float())\n",
    "\n",
    "        example_ct_train += len(targets)\n",
    "        batch_ct_train+=1\n",
    "\n",
    "        #set gradients to zero\n",
    "        optimizer.zero_grad()\n",
    "\n",
    "        #backward pass\n",
    "        loss.backward()\n",
    "\n",
    "        #Gradient clipping\n",
    "        if grad_clipping:\n",
    "            nn.utils.clip_grad_norm(model.parameters(),max_norm=max_norm,norm_type=2)\n",
    "\n",
    "        #Update the parameters using their gradients\n",
    "        optimizer.step()\n",
    "\n",
    "        running_train_loss += loss.item()\n",
    "\n",
    "        if log_batch:\n",
    "            if((batch_ct_train+1) % log_interval)==0:\n",
    "                wandb.log({f\"Train Batch Loss: \":loss})\n",
    "    \n",
    "    #Calculate the mean train loss for the whole dataset for a particular epoch\n",
    "    train_loss = running_train_loss/len(train_loader)\n",
    "\n",
    "    return train_loss\n",
    "\n"
   ]
  },
  {
   "cell_type": "code",
   "execution_count": 38,
   "metadata": {},
   "outputs": [],
   "source": [
    "def valid(loader,model,optimizer,loss_function,log_batch,log_interval):\n",
    "\n",
    "    #initialize variable as global\n",
    "    # these counts will be updated every epoch\n",
    "    global example_ct_valid\n",
    "    global batch_ct_valid\n",
    "\n",
    "    #Validation Loop \n",
    "    #Intialize train_loss at the start of the epoch\n",
    "    running_valid_loss = 0\n",
    "\n",
    "    #put model in the evaluation mode\n",
    "    model.eval()\n",
    "\n",
    "    with torch.no_grad():\n",
    "        for input,targets in loader:\n",
    "\n",
    "            # move inputs and outputs to GPUs\n",
    "            input = input.to(device)\n",
    "            targets = targets.to(device)   \n",
    "\n",
    "            #Forward pass\n",
    "            output=model(input)\n",
    "            loss=loss_function(output,targets.float())\n",
    "\n",
    "            #count of images and batches \n",
    "            example_ct_valid += len(targets)\n",
    "            batch_ct_valid +=1\n",
    "\n",
    "            #Add valid loss of a batch\n",
    "            running_valid_loss +=loss.item()\n",
    "\n",
    "            #log batch loss and accuracy\n",
    "            if log_batch:\n",
    "                if ((batch_ct_valid + 1) % log_interval) == 0:\n",
    "                    wandb.log({f\"Valid Batch Loss :\": loss})\n",
    "\n",
    "            #Calculate mean valid loss for the whole dataset for particular epoch\n",
    "            valid_loss = running_valid_loss/len(loader)\n",
    "\n",
    "        return valid_loss\n"
   ]
  },
  {
   "cell_type": "code",
   "execution_count": 39,
   "metadata": {},
   "outputs": [],
   "source": [
    "#Defining the training loop\n",
    "\n",
    "def train_loop(train_loader,valid_loader, model,loss_function,optimizer, epochs,device, patience, early_stopping, file_model):\n",
    "     '''\n",
    "  model: specify your model for training\n",
    "  criterion: loss function \n",
    "  optimizer: optimizer like SGD , ADAM etc.\n",
    "  train loader: function to carete batches for training data\n",
    "  valid loader : function to create batches for valid data set\n",
    "  file_model : specify file name for saving your model. This way we can upload the model weights from file. We will not to run model again.\n",
    "  \n",
    "\n",
    "  '''\n",
    "     #Create a list to store the train and valid loss at each epoch\n",
    "     train_loss_history = []\n",
    "     valid_loss_history=[]\n",
    "\n",
    "     delta=0\n",
    "     best_score=None\n",
    "     valid_loss_min =np.Inf\n",
    "     counter_early_stop=0\n",
    "     early_stop=False\n",
    "\n",
    "\n",
    "     #Iterate for a given number of epochs \n",
    "     for epoch in range(epochs):\n",
    "          t0=datetime.now()\n",
    "\n",
    "          #Get train loss and accuracy for one epoch\n",
    "\n",
    "          train_loss= train(train_loader,model,optimizer, loss_function,wandb.config.LOG_BATCH,wandb.config.LOG_INTERVAL,wandb.config.GRAD_CLIPPING,wandb.config.MAX_NORM)\n",
    "\n",
    "          valid_loss= valid(valid_loader, model, optimizer, loss_function,wandb.config.LOG_BATCH,wandb.config.LOG_INTERVAL)\n",
    "\n",
    "          dt=datetime.now()-t0\n",
    "\n",
    "          #Save history of losses and accuracy\n",
    "          train_loss_history.append(train_loss)\n",
    "\n",
    "          valid_loss_history.append(valid_loss)\n",
    "\n",
    "          if early_stopping:\n",
    "               score= -valid_loss\n",
    "               if best_score is None:\n",
    "                    best_score=score\n",
    "                    print(f'Validation loss has decreased ({valid_loss_min:.6f} --> {valid_loss:.6f}). Saving Model..')\n",
    "                    torch.save(model.state_dict(),file_model)\n",
    "                    valid_loss_min=valid_loss\n",
    "\n",
    "               elif score<best_score+delta:\n",
    "                     counter_early_stop+=1\n",
    "                     print(f\"Early Stopping counter: {counter_early_stop} out of {patience}\")\n",
    "                     if counter_early_stop > patience:\n",
    "                          early_stop=True\n",
    "\n",
    "               else:\n",
    "                    best_score=score\n",
    "                    print(f\"Validationn loss had decreased ({valid_loss_min:.6f}) --> {valid_loss:.6f}). Saving model.. \")\n",
    "                    torch.save(model.state_dict(),file_model)\n",
    "                    counter_early_stop=0\n",
    "                    valid_loss_min=valid_loss\n",
    "               \n",
    "               if early_stop:\n",
    "                    print(\"Early Stopping\")\n",
    "                    break\n",
    "          else:\n",
    "               score = -valid_loss\n",
    "               if best_score is None:\n",
    "                    best_score=score\n",
    "                    print(f\"Validation loss has decreased ({valid_loss_min:.6f}) --> {valid_loss:.6f}). Saving Model..\")\n",
    "                    torch.save(model.state_dict(),file_model)\n",
    "                    valid_loss_min=valid_loss\n",
    "\n",
    "               elif score<best_score+delta:\n",
    "                    print(f\"Validation score has not decreased ({valid_loss_min:.6f} --> {valid_loss:.6f}). Not Saving Model..\")\n",
    "\n",
    "               else:\n",
    "                    best_score = score\n",
    "                    print(f\"Validation loss has decreased ({valid_loss_min:.6f}--> {valid_loss:.6f}). Saving Model\")\n",
    "                    torch.save(model.state_dict(),file_model)\n",
    "                    valid_loss_min=valid_loss\n",
    "\n",
    "          #Log the train and valid loss to W&B\n",
    "          wandb.log({f\"Train epoch loss:\":train_loss, f\"Valid epoch Loss :\":valid_loss})\n",
    "\n",
    "          #Print the train loss and accuracy for given number of epochs, batch size and number of samples\n",
    "          print(f\"Epochs : {epoch+1} / {epochs}\")\n",
    "          print(f\"Time to complete {epoch+1} is {dt}\")\n",
    "\n",
    "          print(f\"Train loss:  {train_loss: .4f}\")\n",
    "\n",
    "          print(f\"Valid lodd: {valid_loss : .4f}\")\n",
    "\n",
    "          print()\n",
    "\n",
    "          torch.cuda.empty_cache()\n",
    "      \n",
    "     return train_loss_history, valid_loss_history\n",
    "               \n",
    "\n",
    "                    \n",
    "               \n",
    "            \n",
    "               \n",
    "               \n",
    "\n",
    "          "
   ]
  },
  {
   "cell_type": "code",
   "execution_count": 40,
   "metadata": {},
   "outputs": [],
   "source": [
    "#Hyperparameters\n",
    "hyperparameters= SimpleNamespace(\n",
    "    INPUT_DIM = train_set.tensors[0].shape[1],\n",
    "    OUTPUT_DIM = 8,\n",
    "    HIDDEN_DIM1 = 512,\n",
    "    HIDDEN_DIM2 = 256,\n",
    "    NON_LINEARITY= F.relu,\n",
    "    EPOCHS = 40,\n",
    "    \n",
    "    BATCH_SIZE = 4,\n",
    "    LEARNING_RATE = 0.01,\n",
    "    DATASET=\"Multilabel\",\n",
    "    ARCHITECTUREe=\"IntentModellingV2\",\n",
    "    LOG_INTERVAL = 25,\n",
    "    LOG_BATCH = True,\n",
    "    FILE_MODEL = 'IntentModelV2.pt',\n",
    "    GRAD_CLIPPING = False,\n",
    "    MAX_NORM = 0,\n",
    "    MOMENTUM = 0,\n",
    "    PATIENCE = 5,\n",
    "    EARLY_STOPPING = True,\n",
    "    # SCHEDULER_FACTOR = 0,\n",
    "    # SCHEDULER_PATIENCE = 0,\n",
    "    WEIGHT_DECAY = 0\n",
    "\n",
    ")"
   ]
  },
  {
   "cell_type": "code",
   "execution_count": 41,
   "metadata": {},
   "outputs": [
    {
     "data": {
      "text/html": [
       "wandb version 0.15.8 is available!  To upgrade, please run:\n",
       " $ pip install wandb --upgrade"
      ],
      "text/plain": [
       "<IPython.core.display.HTML object>"
      ]
     },
     "metadata": {},
     "output_type": "display_data"
    },
    {
     "data": {
      "text/html": [
       "Tracking run with wandb version 0.15.5"
      ],
      "text/plain": [
       "<IPython.core.display.HTML object>"
      ]
     },
     "metadata": {},
     "output_type": "display_data"
    },
    {
     "data": {
      "text/html": [
       "Run data is saved locally in <code>d:\\Github repos\\IntentModelling\\wandb\\run-20230816_100241-suaaj7ol</code>"
      ],
      "text/plain": [
       "<IPython.core.display.HTML object>"
      ]
     },
     "metadata": {},
     "output_type": "display_data"
    },
    {
     "data": {
      "text/html": [
       "Syncing run <strong><a href='https://wandb.ai/aswin1903/NLP/runs/suaaj7ol' target=\"_blank\">Intent Modelling V2</a></strong> to <a href='https://wandb.ai/aswin1903/NLP' target=\"_blank\">Weights & Biases</a> (<a href='https://wandb.me/run' target=\"_blank\">docs</a>)<br/>"
      ],
      "text/plain": [
       "<IPython.core.display.HTML object>"
      ]
     },
     "metadata": {},
     "output_type": "display_data"
    },
    {
     "data": {
      "text/html": [
       " View project at <a href='https://wandb.ai/aswin1903/NLP' target=\"_blank\">https://wandb.ai/aswin1903/NLP</a>"
      ],
      "text/plain": [
       "<IPython.core.display.HTML object>"
      ]
     },
     "metadata": {},
     "output_type": "display_data"
    },
    {
     "data": {
      "text/html": [
       " View run at <a href='https://wandb.ai/aswin1903/NLP/runs/suaaj7ol' target=\"_blank\">https://wandb.ai/aswin1903/NLP/runs/suaaj7ol</a>"
      ],
      "text/plain": [
       "<IPython.core.display.HTML object>"
      ]
     },
     "metadata": {},
     "output_type": "display_data"
    },
    {
     "data": {
      "text/html": [
       "<button onClick=\"this.nextSibling.style.display='block';this.style.display='none';\">Display W&B run</button><iframe src='https://wandb.ai/aswin1903/NLP/runs/suaaj7ol?jupyter=true' style='border:none;width:100%;height:420px;display:none;'></iframe>"
      ],
      "text/plain": [
       "<wandb.sdk.wandb_run.Run at 0x1a61f5cff50>"
      ]
     },
     "execution_count": 41,
     "metadata": {},
     "output_type": "execute_result"
    }
   ],
   "source": [
    "#Initialize new Project \n",
    "import random\n",
    "wandb.init(name=\"Intent Modelling V2\", project=\"NLP\")"
   ]
  },
  {
   "cell_type": "code",
   "execution_count": 42,
   "metadata": {},
   "outputs": [],
   "source": [
    "wandb.config=hyperparameters\n",
    "non_linearity=F.relu\n",
    "wandb.Config.NON_LINEARITY = non_linearity"
   ]
  },
  {
   "cell_type": "code",
   "execution_count": 43,
   "metadata": {},
   "outputs": [],
   "source": [
    "#Fix seed value \n",
    "SEED=1234\n",
    "random.seed(SEED)\n",
    "np.random.seed(SEED)\n",
    "torch.manual_seed(SEED)\n",
    "torch.cuda.manual_seed(SEED)\n",
    "torch.backends.cudnn.deterministic=True\n",
    "\n",
    "#DATA Loaders\n",
    "train_loader=torch.utils.data.DataLoader(train_set,batch_size=wandb.config.BATCH_SIZE,shuffle=True,num_workers=4)\n",
    "valid_loader=torch.utils.data.DataLoader(valid_set,batch_size=wandb.config.BATCH_SIZE,shuffle=True,num_workers=4)\n",
    "test_loader=torch.utils.data.DataLoader(test_Set,batch_size=wandb.config.BATCH_SIZE,shuffle=True,num_workers=4)\n",
    "\n",
    "#Cross entropy loss function\n",
    "loss_function= nn.BCEWithLogitsLoss()\n",
    "\n",
    "#use GPU\n",
    "device=torch.device(\"cuda:0\" if torch.cuda.is_available() else \"cpu\")\n",
    "wandb.config.DEVICE=device\n",
    "\n",
    "#Model\n",
    "model=Model(wandb.config.INPUT_DIM, wandb.config.HIDDEN_DIM1, wandb.config.HIDDEN_DIM2, wandb.config.OUTPUT_DIM, wandb.config.NON_LINEARITY)\n",
    "\n",
    "model.to(wandb.config.DEVICE)\n",
    "\n",
    "def init_weights(m):\n",
    "    if type(m) == nn.Linear:\n",
    "        torch.nn.init.kaiming_normal_(m.weight)\n",
    "        torch.nn.init.zeros_(m.bias)\n",
    "\n",
    "#Apply initialization recursively to all modules\n",
    "model.apply(init_weights)\n",
    "\n",
    "#Initialize stochiastic gradient descent optimizer\n",
    "optimizer = torch.optim.Adam(model.parameters(),lr=wandb.config.LEARNING_RATE,weight_decay=wandb.config.WEIGHT_DECAY)\n",
    "\n",
    "wandb.config.OPTIMIZER = optimizer\n",
    "\n"
   ]
  },
  {
   "cell_type": "code",
   "execution_count": 44,
   "metadata": {},
   "outputs": [
    {
     "name": "stdout",
     "output_type": "stream",
     "text": [
      "Actual loss: 0.6926751732826233\n",
      "Expected Theoretical loss: 0.6931471805599453\n"
     ]
    }
   ],
   "source": [
    "#Sanity Check \n",
    "for input_, targets in train_loader:\n",
    "  \n",
    "  # move inputs and outputs to GPUs\n",
    "  input_ = input_.to(device)\n",
    "  targets = targets.to(device)\n",
    "  model.eval()\n",
    "  # Forward pass\n",
    "  output = model(input_)\n",
    "  loss = loss_function(output, targets.float())\n",
    "  print(f'Actual loss: {loss}')\n",
    "  break\n",
    "\n",
    "print(f'Expected Theoretical loss: {np.log(2)}')"
   ]
  },
  {
   "cell_type": "code",
   "execution_count": 45,
   "metadata": {},
   "outputs": [
    {
     "name": "stderr",
     "output_type": "stream",
     "text": [
      "\u001b[34m\u001b[1mwandb\u001b[0m: logging graph, to disable use `wandb.watch(log_graph=False)`\n"
     ]
    },
    {
     "data": {
      "text/plain": [
       "[<wandb.wandb_torch.TorchGraph at 0x1a61ed01650>]"
      ]
     },
     "execution_count": 45,
     "metadata": {},
     "output_type": "execute_result"
    }
   ],
   "source": [
    "#Training model\n",
    "wandb.watch(model, log = 'all', log_freq=25, log_graph=True)"
   ]
  },
  {
   "cell_type": "code",
   "execution_count": 46,
   "metadata": {},
   "outputs": [
    {
     "name": "stdout",
     "output_type": "stream",
     "text": [
      "Validation loss has decreased (inf --> 0.241736). Saving Model..\n",
      "Epochs : 1 / 40\n",
      "Time to complete 1 is 0:00:21.571344\n",
      "Train loss:   0.3089\n",
      "Valid lodd:  0.2417\n",
      "\n",
      "Validationn loss had decreased (0.241736) --> 0.219807). Saving model.. \n",
      "Epochs : 2 / 40\n",
      "Time to complete 2 is 0:00:16.837475\n",
      "Train loss:   0.1576\n",
      "Valid lodd:  0.2198\n",
      "\n",
      "Early Stopping counter: 1 out of 5\n",
      "Epochs : 3 / 40\n",
      "Time to complete 3 is 0:00:13.981367\n",
      "Train loss:   0.0712\n",
      "Valid lodd:  0.2439\n",
      "\n",
      "Validationn loss had decreased (0.219807) --> 0.206728). Saving model.. \n",
      "Epochs : 4 / 40\n",
      "Time to complete 4 is 0:00:13.966977\n",
      "Train loss:   0.0345\n",
      "Valid lodd:  0.2067\n",
      "\n",
      "Early Stopping counter: 1 out of 5\n",
      "Epochs : 5 / 40\n",
      "Time to complete 5 is 0:00:13.716720\n",
      "Train loss:   0.0365\n",
      "Valid lodd:  0.2347\n",
      "\n",
      "Early Stopping counter: 2 out of 5\n",
      "Epochs : 6 / 40\n",
      "Time to complete 6 is 0:00:13.646295\n",
      "Train loss:   0.0230\n",
      "Valid lodd:  0.2633\n",
      "\n",
      "Early Stopping counter: 3 out of 5\n",
      "Epochs : 7 / 40\n",
      "Time to complete 7 is 0:00:16.362373\n",
      "Train loss:   0.0264\n",
      "Valid lodd:  0.3538\n",
      "\n",
      "Early Stopping counter: 4 out of 5\n",
      "Epochs : 8 / 40\n",
      "Time to complete 8 is 0:00:15.335888\n",
      "Train loss:   0.0353\n",
      "Valid lodd:  0.2838\n",
      "\n",
      "Early Stopping counter: 5 out of 5\n",
      "Epochs : 9 / 40\n",
      "Time to complete 9 is 0:00:13.943808\n",
      "Train loss:   0.0487\n",
      "Valid lodd:  0.3498\n",
      "\n",
      "Early Stopping counter: 6 out of 5\n",
      "Early Stopping\n"
     ]
    }
   ],
   "source": [
    "example_ct_train,batch_ct_train, example_ct_valid,batch_ct_valid = 0, 0, 0, 0\n",
    "\n",
    "train_loss_history, valid_loss_history = train_loop(train_loader, valid_loader, \n",
    "                                                                                          model,\n",
    "                                                                                          loss_function, \n",
    "                                                                                          optimizer, \n",
    "                                                                                          wandb.config.EPOCHS, \n",
    "                                                                                          wandb.config.DEVICE,\n",
    "                                                                                          wandb.config.PATIENCE, \n",
    "                                                                                          wandb.config.EARLY_STOPPING,\n",
    "                                                                                          wandb.config.FILE_MODEL)"
   ]
  },
  {
   "cell_type": "code",
   "execution_count": 47,
   "metadata": {},
   "outputs": [
    {
     "data": {
      "image/png": "[encoded data removed]",
      "text/plain": [
       "<Figure size 640x480 with 1 Axes>"
      ]
     },
     "metadata": {},
     "output_type": "display_data"
    }
   ],
   "source": [
    "#LOSS PLOT\n",
    "# Plot the train loss and test loss per iteration\n",
    "import matplotlib.pyplot as plt \n",
    "fig = plt.figure(0)\n",
    "plt.plot(train_loss_history, label = 'train loss')\n",
    "plt.plot(valid_loss_history, label = 'valid loss')\n",
    "plt.legend()\n",
    "\n",
    "# Log the plot to W&B\n",
    "wandb.log({\"train-test loss per epoch\": wandb.Image(plt)})"
   ]
  },
  {
   "cell_type": "code",
   "execution_count": 48,
   "metadata": {},
   "outputs": [
    {
     "data": {
      "text/plain": [
       "<All keys matched successfully>"
      ]
     },
     "execution_count": 48,
     "metadata": {},
     "output_type": "execute_result"
    }
   ],
   "source": [
    "model_nn = Model(wandb.config.INPUT_DIM, wandb.config.HIDDEN_DIM1, wandb.config.HIDDEN_DIM2, wandb.config.OUTPUT_DIM, non_linearity)\n",
    "model_nn.to(device)\n",
    "model_nn.load_state_dict(torch.load(wandb.config.FILE_MODEL))"
   ]
  },
  {
   "cell_type": "code",
   "execution_count": 49,
   "metadata": {},
   "outputs": [],
   "source": [
    "def evaluate_model(data_loader, model, device):\n",
    "    \"\"\" \n",
    "    Function to evaluate the performance of a given model on a dataset\n",
    "    Input: Data iterator, Model, Device (CPU or GPU)\n",
    "    Output: Predictions, Actual labels, Classification report, F1 score\n",
    "    \"\"\"\n",
    "    # Array to store predicted labels\n",
    "    predictions = torch.Tensor().to(device)\n",
    "\n",
    "    # Array to store actual labels\n",
    "    y_true = torch.Tensor().to(device)\n",
    "\n",
    "    model.eval()  # Set the model to evaluation mode\n",
    "\n",
    "    with torch.no_grad():\n",
    "        for input_, targets in data_loader:\n",
    "            input_ = input_.to(device)\n",
    "            targets = targets.to(device)\n",
    "\n",
    "            output = model(input_)\n",
    "            prediction = torch.sigmoid(output)\n",
    "            indices = (prediction >= 0.5).float()  # Threshold predictions\n",
    "\n",
    "            # Add the predicted labels to the array\n",
    "            predictions = torch.cat((predictions, indices))\n",
    "\n",
    "            # Add the actual labels to the array\n",
    "            y_true = torch.cat((y_true, targets))\n",
    "\n",
    "    # Convert tensors to numpy arrays\n",
    "    predictions = predictions.cpu().numpy()\n",
    "    y_true = y_true.cpu().numpy()\n",
    "\n",
    "    # Generate classification report\n",
    "    report = classification_report(y_true, predictions, target_names=[\"class1\", \"class2\", ...])\n",
    "\n",
    "    # Calculate F1 score\n",
    "    f1 = f1_score(y_true, predictions, average=\"weighted\")\n",
    "\n",
    "    return predictions, y_true, report, f1"
   ]
  },
  {
   "cell_type": "code",
   "execution_count": 50,
   "metadata": {},
   "outputs": [],
   "source": [
    "##Function for Accuracy\n",
    "\n",
    "def get_acc_pred(data_loader, model,device):\n",
    "    \n",
    "  \"\"\" \n",
    "  Function to get predictions and accuracy for a given data using estimated model\n",
    "  Input: Data iterator, Final estimated weoights, bias\n",
    "  Output: Precditions and Accuracy for given dataset\n",
    "  \"\"\"\n",
    "\n",
    "  # Array to store predicted labels\n",
    "  predictions = torch.Tensor() # empty tensor\n",
    "  predictions = predictions.to(device) # move predictions to GPU\n",
    "\n",
    "  # Array to store actual labels\n",
    "  y = torch.Tensor() # empty tensor\n",
    "  y = y.to(device)\n",
    "\n",
    "  total=0\n",
    "  correct=0\n",
    "  # Iterate over batches from data iterator\n",
    "  with torch.no_grad():\n",
    "    for input_, targets in data_loader:\n",
    "      \n",
    "      # move inputs and outputs to GPUs\n",
    "      \n",
    "      input_ = input_.to(device)\n",
    "      targets = targets.to(device)\n",
    "      \n",
    "      # Calculated the predicted labels\n",
    "      output = model(input_)\n",
    "\n",
    "      # Choose the label with maximum probability\n",
    "      prediction = torch.sigmoid(output)\n",
    "      indices=prediction\n",
    "      indices[indices>0.5]=1\n",
    "      indices[indices<0.5]=0\n",
    "\n",
    "      # Add the predicted labels to the array\n",
    "      predictions = torch.cat((predictions, indices)) \n",
    "\n",
    "      # Add the actual labels to the array\n",
    "      y = torch.cat((y, targets))\n",
    "\n",
    "      predicted = np.round(prediction) #keep in mind that np.round() is a round to even function\n",
    "      total += targets.size(0)\n",
    "      #print(\"Target: \",targets.size(0))\n",
    "      #print(\"Predicted: \",predicted)\n",
    "      #print(\"Target: \", targets)\n",
    "      #calculate how many images were correctly classified\n",
    "      correct += (predicted == targets).sum().item()\n",
    "      #print(correct)\n",
    "  accuracy=100.0* (correct/total)\n",
    "  print(\"Accuracy: {}%\".format(accuracy))\n",
    "  # Check for complete dataset if actual and predicted labels are same or not\n",
    "  # Calculate accuracy\n",
    "  #acc = (predictions == y).float().mean()\n",
    "\n",
    "  # Return tuple containing predictions and accuracy\n",
    "  return predictions, y"
   ]
  },
  {
   "cell_type": "code",
   "execution_count": 51,
   "metadata": {},
   "outputs": [],
   "source": [
    "#Function for predictions\n",
    "def get_predictions(data_loader, model,device):\n",
    "    # Array to store predicted labels\n",
    "    predictions = torch.Tensor() # empty tensor\n",
    "    predictions = predictions.to(device) # move predictions to GPU\n",
    "\n",
    "    with torch.no_grad():\n",
    "        for input_ in data_loader:\n",
    "        \n",
    "            # move inputs and outputs to GPUs\n",
    "        \n",
    "            input_ = input_.to(device)\n",
    "            #targets = targets.to(device)\n",
    "            \n",
    "            # Calculated the predicted labels\n",
    "            output = model(input_)\n",
    "\n",
    "            # Choose the label with maximum probability\n",
    "            prediction = torch.sigmoid(output)\n",
    "            indices=prediction\n",
    "            indices[indices>0.5]=1\n",
    "            indices[indices<0.5]=0\n",
    "\n",
    "            # Add the predicted labels to the array\n",
    "            predictions = torch.cat((predictions, indices)) \n",
    "        return predictions\n",
    "    "
   ]
  },
  {
   "cell_type": "code",
   "execution_count": 52,
   "metadata": {},
   "outputs": [
    {
     "ename": "NameError",
     "evalue": "name 'pred_train' is not defined",
     "output_type": "error",
     "traceback": [
      "\u001b[1;31m---------------------------------------------------------------------------\u001b[0m",
      "\u001b[1;31mNameError\u001b[0m                                 Traceback (most recent call last)",
      "Cell \u001b[1;32mIn[52], line 1\u001b[0m\n\u001b[1;32m----> 1\u001b[0m \u001b[39mprint\u001b[39m(\u001b[39m\"\u001b[39m\u001b[39mWeighted F1 score: \u001b[39m\u001b[39m{:.2f}\u001b[39;00m\u001b[39m\"\u001b[39m\u001b[39m.\u001b[39mformat(f1_score(y_true\u001b[39m=\u001b[39m y_train, y_pred\u001b[39m=\u001b[39m pred_train, average\u001b[39m=\u001b[39m \u001b[39m'\u001b[39m\u001b[39mweighted\u001b[39m\u001b[39m'\u001b[39m)))\n",
      "\u001b[1;31mNameError\u001b[0m: name 'pred_train' is not defined"
     ]
    }
   ],
   "source": [
    "print(\"Weighted F1 score: {:.2f}\".format(f1_score(y_true= y_train, y_pred= pred_train, average= 'weighted')))"
   ]
  },
  {
   "cell_type": "markdown",
   "metadata": {},
   "source": [
    "## Predictions"
   ]
  },
  {
   "cell_type": "code",
   "execution_count": 53,
   "metadata": {},
   "outputs": [],
   "source": [
    "pred_loader=torch.utils.data.DataLoader(X_test_tensor,batch_size=wandb.config.BATCH_SIZE,shuffle=False,num_workers=4)"
   ]
  },
  {
   "cell_type": "code",
   "execution_count": 54,
   "metadata": {},
   "outputs": [],
   "source": [
    "result=get_predictions(pred_loader,model_nn,device)"
   ]
  },
  {
   "cell_type": "code",
   "execution_count": 55,
   "metadata": {},
   "outputs": [
    {
     "data": {
      "text/plain": [
       "tensor([[0., 0., 0., 0., 0., 0., 1., 0.],\n",
       "        [0., 0., 0., 0., 0., 0., 1., 0.],\n",
       "        [0., 0., 0., 0., 0., 1., 1., 0.],\n",
       "        [0., 0., 0., 0., 0., 1., 0., 0.],\n",
       "        [0., 0., 0., 0., 0., 1., 0., 0.],\n",
       "        [0., 0., 0., 0., 0., 0., 1., 0.],\n",
       "        [0., 0., 0., 0., 0., 0., 1., 0.],\n",
       "        [0., 0., 0., 0., 0., 0., 1., 0.],\n",
       "        [0., 0., 0., 0., 0., 0., 1., 0.],\n",
       "        [0., 1., 0., 0., 0., 0., 0., 0.],\n",
       "        [0., 1., 0., 0., 0., 0., 0., 0.],\n",
       "        [1., 0., 0., 0., 0., 1., 0., 0.],\n",
       "        [0., 0., 0., 0., 0., 0., 1., 0.],\n",
       "        [0., 1., 0., 1., 0., 0., 0., 0.],\n",
       "        [0., 0., 0., 0., 0., 0., 1., 0.],\n",
       "        [1., 1., 0., 0., 1., 1., 0., 0.],\n",
       "        [1., 0., 0., 0., 0., 0., 0., 0.],\n",
       "        [1., 0., 0., 0., 0., 1., 0., 0.],\n",
       "        [0., 0., 0., 0., 0., 0., 1., 0.],\n",
       "        [0., 0., 0., 0., 0., 0., 1., 0.],\n",
       "        [0., 0., 0., 0., 0., 0., 0., 0.],\n",
       "        [0., 0., 0., 0., 0., 0., 1., 0.],\n",
       "        [0., 0., 0., 0., 0., 0., 0., 0.]])"
      ]
     },
     "execution_count": 55,
     "metadata": {},
     "output_type": "execute_result"
    }
   ],
   "source": [
    "result"
   ]
  },
  {
   "cell_type": "code",
   "execution_count": 56,
   "metadata": {},
   "outputs": [],
   "source": [
    "y=mlb.inverse_transform(result)"
   ]
  },
  {
   "cell_type": "code",
   "execution_count": 57,
   "metadata": {},
   "outputs": [
    {
     "data": {
      "text/plain": [
       "array(['the customer service person was extremely helpful and courteous',\n",
       "       'monica was awesome   she was friendly and very knowledgeable   she gave my issue her conllete attention and her follow up was thorough',\n",
       "       'leonel did a great job trying to help me unfortunately he was unable to locate the model of fan i had to purchase replacement parts i understand the ceiling fan is 20 years old but how do you or none of your vendors have information on it when i_x0019_ve provided the model and item number disappointed my issue isn_x0019_t resolved',\n",
       "       'product was damaged during shipping nsd does not wait to open the box i have been dealing with this since i opened the box the evening it was delivered part can not be replaced so i need to return still waiting on nsd to schedule the pick up for the return i was told 3 5 business days after 6/29 they will contact me then call me the day before via email their contact phone number when you ask to talk to a representative disconnects and i only learned of this timing via email after i got a email saying they tried to contact me the email was the first contact with nsd and i was told by home depot i would be able to pick the day at this point i just want someone to pick this item up and provide a refund as soon as possible please contact me immediately 410 688 3504',\n",
       "       'iiyasah was excellent to deal with they provided me with what i needed without issue and were very professional',\n",
       "       'maribel was very helpful   the wait time before talking to her was long but not her issue',\n",
       "       'thanks for making it easy   wow',\n",
       "       'david was very professional and handled my issues with excellence',\n",
       "       'great job',\n",
       "       'i would like the ability to receive customer service via email instead of phone the wait time on the phone was long but the customer service itself was excellent alejandro did a great job',\n",
       "       'i made 2 calls and left messages with support person and after a more then a week i have not gotten a call back',\n",
       "       \"i ran into a ridiculous policy issue with hampton bay i purchased 2 light fixtures a while back and in the process of installing one i dropped and broke a shade globe because i no longer have the receipt i was told i couldn''t purchase a shade some nonsense about a warranty period etc this was n't a warranty   claim i just wanted to purchase a shade globe needless to say i 'm not very happy i 've purchased an enormous amount of stuff from hd over the years buy i 'll think twice about it from now on\",\n",
       "       'michelle was awesome to find the part i needed for my ceiling fan   order process was easy   thank you',\n",
       "       'i have an issue with the stanley door i bought on line the door knob and the deadbolt lock did not line up with the door jam after installation pedro offered a credit but i still have brand new door with holes that don_x0019_t match waiting for a response from danvers home depot to let me know what going to happen they also sold me the wrong extension kit',\n",
       "       'hector was extremely helpful and personable he definitely made the experience enjoyable',\n",
       "       'it would help if the home depot store in phoenix or answered their phone it took two trips to the store to schedule an installation after the materials arrived    everyone at home depot followed a process but no one seemed to be able to make anything happen   i will try lowes for my next custom order',\n",
       "       'i am still waiting to see what they will do about my damaged beverage fridge',\n",
       "       \"i ran into a ridiculous policy issue with hampton bay i purchased 2 light fixtures a while back and in the process of installing one i dropped and broke a shade globe because i no longer have the receipt i was told i couldn''t purchase a shade some nonsense about a warranty period etc this was n't a warranty   claim i just wanted to purchase a shade globe needless to say i 'm not very happy i 've purchased an enormous amount of stuff from hd over the years buy i 'll think twice about it from now on\",\n",
       "       'bob put the zing in amazing true american',\n",
       "       'detailed and helpful',\n",
       "       'ricardo and hugo were very good about getting things going and keeping me updated my only discontent is i still don_x0019_t have the part',\n",
       "       'javier did an amazing job',\n",
       "       'no one cares after spending over $ 3000 on decking and railings i had to remove the pieces myself from the racks it took over an hour and a half but was told it would be a long time for them to do it not very helpful'],\n",
       "      dtype=object)"
      ]
     },
     "execution_count": 57,
     "metadata": {},
     "output_type": "execute_result"
    }
   ],
   "source": [
    "X_test.values"
   ]
  },
  {
   "cell_type": "code",
   "execution_count": 58,
   "metadata": {},
   "outputs": [],
   "source": [
    "t=pd.DataFrame()\n",
    "t[\"pred\"]=y\n",
    "t[\"comments\"]=X_test.values\n",
    "t[\"actual_value\"]=mlb.inverse_transform(torch.tensor(y_test))"
   ]
  },
  {
   "cell_type": "code",
   "execution_count": 59,
   "metadata": {},
   "outputs": [],
   "source": [
    "pd.set_option('display.max_colwidth', None)"
   ]
  },
  {
   "cell_type": "code",
   "execution_count": 61,
   "metadata": {},
   "outputs": [],
   "source": [
    "t.to_csv(\"IntentSample.csv\")"
   ]
  }
 ],
 "metadata": {
  "kernelspec": {
   "display_name": "DeepL",
   "language": "python",
   "name": "python3"
  },
  "language_info": {
   "codemirror_mode": {
    "name": "ipython",
    "version": 3
   },
   "file_extension": ".py",
   "mimetype": "text/x-python",
   "name": "python",
   "nbconvert_exporter": "python",
   "pygments_lexer": "ipython3",
   "version": "3.11.4"
  },
  "orig_nbformat": 4
 },
 "nbformat": 4,
 "nbformat_minor": 2
}
