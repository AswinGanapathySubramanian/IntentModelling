{
 "cells": [
  {
   "cell_type": "code",
   "execution_count": 1,
   "metadata": {},
   "outputs": [],
   "source": [
    "#importing the libraries\n",
    "import pandas as pd \n",
    "import numpy as np \n",
    "import matplotlib.pyplot as plt \n",
    "import nltk\n",
    "import custom_preprocessor as cp\n",
    "import featurizer as f\n",
    "import plot_learning_curve as plc\n",
    "\n",
    "import torch\n",
    "import torch.nn as nn\n",
    "import torch.nn.functional as F\n",
    "from torchtext.vocab import  vocab\n",
    "from torch.optim.lr_scheduler import ReduceLROnPlateau, OneCycleLR, StepLR\n",
    "from torch.utils.data import Dataset, DataLoader\n",
    "\n",
    "import random\n",
    "from datetime import datetime\n",
    "import numpy as np\n",
    "import pandas as pd\n",
    "import joblib\n",
    "from collections import Counter\n",
    "from types import SimpleNamespace\n",
    "import wandb\n",
    "\n",
    "from sklearn.model_selection import train_test_split\n",
    "from sklearn.feature_extraction.text import  TfidfVectorizer\n",
    "from sklearn.preprocessing import MultiLabelBinarizer\n",
    "from sklearn.metrics import f1_score"
   ]
  },
  {
   "cell_type": "code",
   "execution_count": 2,
   "metadata": {},
   "outputs": [],
   "source": [
    "#Creating Model\n",
    "\n",
    "class Model(nn.Module):\n",
    "\n",
    "    def __init__(self,input_dim,hidden_dim1,hidden_dim2,output_dim,non_linearity):\n",
    "        self.input_dim=input_dim\n",
    "        self.hidden_dim1=hidden_dim1\n",
    "        self.hidden_dim2=hidden_dim2\n",
    "        self.output_dim=output_dim\n",
    "        self.non_linearity=non_linearity\n",
    "\n",
    "        super().__init__()\n",
    "\n",
    "        #hidden layer1\n",
    "        self.hidden_layer1=nn.Linear(self.input_dim,self.hidden_dim1)\n",
    "        #hidden layer2\n",
    "        self.hidden_layer2=nn.Linear(self.hidden_dim1,self.hidden_dim2)\n",
    "        #output layer\n",
    "        self.output_layer=nn.Linear(self.hidden_dim2,self.output_dim)\n",
    "\n",
    "    def forward(self,input):\n",
    "        hout1=self.non_linearity(self.hidden_layer1(input))\n",
    "        hout2=self.non_linearity(self.hidden_layer2(hout1))\n",
    "        ypred=self.output_layer(hout2)\n",
    "\n",
    "        return ypred"
   ]
  },
  {
   "cell_type": "code",
   "execution_count": 4,
   "metadata": {},
   "outputs": [
    {
     "ename": "Error",
     "evalue": "You must call wandb.init() before wandb.config.INPUT_DIM",
     "output_type": "error",
     "traceback": [
      "\u001b[1;31m---------------------------------------------------------------------------\u001b[0m",
      "\u001b[1;31mError\u001b[0m                                     Traceback (most recent call last)",
      "Cell \u001b[1;32mIn[4], line 1\u001b[0m\n\u001b[1;32m----> 1\u001b[0m model_nn \u001b[39m=\u001b[39m Model(wandb\u001b[39m.\u001b[39;49mconfig\u001b[39m.\u001b[39;49mINPUT_DIM, wandb\u001b[39m.\u001b[39mconfig\u001b[39m.\u001b[39mHIDDEN_DIM1, wandb\u001b[39m.\u001b[39mconfig\u001b[39m.\u001b[39mHIDDEN_DIM2, wandb\u001b[39m.\u001b[39mconfig\u001b[39m.\u001b[39mOUTPUT_DIM, non_linearity)\n\u001b[0;32m      2\u001b[0m model_nn\u001b[39m.\u001b[39mto(device)\n\u001b[0;32m      3\u001b[0m model_nn\u001b[39m.\u001b[39mload_state_dict(torch\u001b[39m.\u001b[39mload(wandb\u001b[39m.\u001b[39mconfig\u001b[39m.\u001b[39mFILE_MODEL))\n",
      "File \u001b[1;32mc:\\Users\\aswin\\anaconda3\\envs\\DeepL\\Lib\\site-packages\\wandb\\sdk\\lib\\preinit.py:27\u001b[0m, in \u001b[0;36mPreInitObject.__getattr__\u001b[1;34m(self, key)\u001b[0m\n\u001b[0;32m     25\u001b[0m \u001b[39mdef\u001b[39;00m \u001b[39m__getattr__\u001b[39m(\u001b[39mself\u001b[39m, key: \u001b[39mstr\u001b[39m) \u001b[39m-\u001b[39m\u001b[39m>\u001b[39m Any:\n\u001b[0;32m     26\u001b[0m     \u001b[39mif\u001b[39;00m \u001b[39mnot\u001b[39;00m key\u001b[39m.\u001b[39mstartswith(\u001b[39m\"\u001b[39m\u001b[39m_\u001b[39m\u001b[39m\"\u001b[39m):\n\u001b[1;32m---> 27\u001b[0m         \u001b[39mraise\u001b[39;00m wandb\u001b[39m.\u001b[39mError(\u001b[39mf\u001b[39m\u001b[39m\"\u001b[39m\u001b[39mYou must call wandb.init() before \u001b[39m\u001b[39m{\u001b[39;00m\u001b[39mself\u001b[39m\u001b[39m.\u001b[39m_name\u001b[39m}\u001b[39;00m\u001b[39m.\u001b[39m\u001b[39m{\u001b[39;00mkey\u001b[39m}\u001b[39;00m\u001b[39m\"\u001b[39m)\n\u001b[0;32m     28\u001b[0m     \u001b[39melse\u001b[39;00m:\n\u001b[0;32m     29\u001b[0m         \u001b[39mraise\u001b[39;00m \u001b[39mAttributeError\u001b[39;00m\n",
      "\u001b[1;31mError\u001b[0m: You must call wandb.init() before wandb.config.INPUT_DIM"
     ]
    }
   ],
   "source": [
    "model_nn = Model(wandb.config.INPUT_DIM, wandb.config.HIDDEN_DIM1, wandb.config.HIDDEN_DIM2, wandb.config.OUTPUT_DIM, non_linearity)\n",
    "model_nn.to(device)\n",
    "model_nn.load_state_dict(torch.load(wandb.config.FILE_MODEL))"
   ]
  },
  {
   "cell_type": "code",
   "execution_count": null,
   "metadata": {},
   "outputs": [],
   "source": []
  }
 ],
 "metadata": {
  "kernelspec": {
   "display_name": "DeepL",
   "language": "python",
   "name": "python3"
  },
  "language_info": {
   "codemirror_mode": {
    "name": "ipython",
    "version": 3
   },
   "file_extension": ".py",
   "mimetype": "text/x-python",
   "name": "python",
   "nbconvert_exporter": "python",
   "pygments_lexer": "ipython3",
   "version": "3.11.4"
  },
  "orig_nbformat": 4
 },
 "nbformat": 4,
 "nbformat_minor": 2
}
