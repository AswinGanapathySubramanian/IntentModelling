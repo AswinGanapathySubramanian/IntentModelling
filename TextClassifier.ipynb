{
 "cells": [
  {
   "cell_type": "code",
   "execution_count": 487,
   "metadata": {},
   "outputs": [],
   "source": [
    "#importing the libraries\n",
    "import pandas as pd \n",
    "import numpy as np \n",
    "import matplotlib.pyplot as plt \n",
    "import nltk\n",
    "import custom_preprocessor as cp\n",
    "import featurizer as f\n",
    "import plot_learning_curve as plc\n",
    "from sklearn.metrics import classification_report, f1_score\n",
    "\n",
    "import torch\n",
    "import torch.nn as nn\n",
    "import torch.nn.functional as F\n",
    "from torchtext.vocab import  vocab\n",
    "from torch.optim.lr_scheduler import ReduceLROnPlateau, OneCycleLR, StepLR\n",
    "from torch.utils.data import Dataset, DataLoader\n",
    "\n",
    "import random\n",
    "from datetime import datetime\n",
    "import numpy as np\n",
    "import pandas as pd\n",
    "import joblib\n",
    "from collections import Counter\n",
    "from types import SimpleNamespace\n",
    "import wandb\n",
    "\n",
    "from sklearn.model_selection import train_test_split\n",
    "from sklearn.feature_extraction.text import  TfidfVectorizer\n",
    "from sklearn.preprocessing import MultiLabelBinarizer\n",
    "from sklearn.metrics import f1_score"
   ]
  },
  {
   "cell_type": "code",
   "execution_count": 488,
   "metadata": {},
   "outputs": [
    {
     "data": {
      "text/plain": [
       "True"
      ]
     },
     "execution_count": 488,
     "metadata": {},
     "output_type": "execute_result"
    }
   ],
   "source": [
    "wandb.login()"
   ]
  },
  {
   "cell_type": "code",
   "execution_count": 498,
   "metadata": {},
   "outputs": [],
   "source": [
    "#Reading the data \n",
    "df=pd.read_excel(\"dataset.xlsx\",sheet_name=\"data3\")"
   ]
  },
  {
   "cell_type": "code",
   "execution_count": 499,
   "metadata": {},
   "outputs": [],
   "source": [
    "#Converting 10 columns to a single target column\n",
    "df[\"target\"]=df[[\"VC1\",\"VC2\",\"VC3\",\"VC4\",\"VC5\",\"VC6\",\"VC7\",\"VC8\",\"VC9\",\"VC10\"]].values.tolist()"
   ]
  },
  {
   "cell_type": "code",
   "execution_count": 500,
   "metadata": {},
   "outputs": [
    {
     "data": {
      "text/html": [
       "<div>\n",
       "<style scoped>\n",
       "    .dataframe tbody tr th:only-of-type {\n",
       "        vertical-align: middle;\n",
       "    }\n",
       "\n",
       "    .dataframe tbody tr th {\n",
       "        vertical-align: top;\n",
       "    }\n",
       "\n",
       "    .dataframe thead th {\n",
       "        text-align: right;\n",
       "    }\n",
       "</style>\n",
       "<table border=\"1\" class=\"dataframe\">\n",
       "  <thead>\n",
       "    <tr style=\"text-align: right;\">\n",
       "      <th></th>\n",
       "      <th>Verbatim</th>\n",
       "      <th>VC1</th>\n",
       "      <th>VC2</th>\n",
       "      <th>VC3</th>\n",
       "      <th>VC4</th>\n",
       "      <th>VC5</th>\n",
       "      <th>VC6</th>\n",
       "      <th>VC7</th>\n",
       "      <th>VC8</th>\n",
       "      <th>VC9</th>\n",
       "      <th>VC10</th>\n",
       "      <th>target</th>\n",
       "    </tr>\n",
       "  </thead>\n",
       "  <tbody>\n",
       "    <tr>\n",
       "      <th>0</th>\n",
       "      <td>Nothing has been resolved. We have been dealin...</td>\n",
       "      <td>RES</td>\n",
       "      <td>TIME</td>\n",
       "      <td>NaN</td>\n",
       "      <td>NaN</td>\n",
       "      <td>NaN</td>\n",
       "      <td>NaN</td>\n",
       "      <td>NaN</td>\n",
       "      <td>NaN</td>\n",
       "      <td>NaN</td>\n",
       "      <td>NaN</td>\n",
       "      <td>[RES, TIME, nan, nan, nan, nan, nan, nan, nan,...</td>\n",
       "    </tr>\n",
       "    <tr>\n",
       "      <th>1</th>\n",
       "      <td>Way too long waiting time!  Insane to wait 1 h...</td>\n",
       "      <td>TIME</td>\n",
       "      <td>WAIT</td>\n",
       "      <td>NaN</td>\n",
       "      <td>NaN</td>\n",
       "      <td>NaN</td>\n",
       "      <td>NaN</td>\n",
       "      <td>NaN</td>\n",
       "      <td>NaN</td>\n",
       "      <td>NaN</td>\n",
       "      <td>NaN</td>\n",
       "      <td>[TIME, WAIT, nan, nan, nan, nan, nan, nan, nan...</td>\n",
       "    </tr>\n",
       "  </tbody>\n",
       "</table>\n",
       "</div>"
      ],
      "text/plain": [
       "                                            Verbatim   VC1   VC2  VC3  VC4  \\\n",
       "0  Nothing has been resolved. We have been dealin...   RES  TIME  NaN  NaN   \n",
       "1  Way too long waiting time!  Insane to wait 1 h...  TIME  WAIT  NaN  NaN   \n",
       "\n",
       "   VC5  VC6  VC7  VC8  VC9 VC10  \\\n",
       "0  NaN  NaN  NaN  NaN  NaN  NaN   \n",
       "1  NaN  NaN  NaN  NaN  NaN  NaN   \n",
       "\n",
       "                                              target  \n",
       "0  [RES, TIME, nan, nan, nan, nan, nan, nan, nan,...  \n",
       "1  [TIME, WAIT, nan, nan, nan, nan, nan, nan, nan...  "
      ]
     },
     "execution_count": 500,
     "metadata": {},
     "output_type": "execute_result"
    }
   ],
   "source": [
    "df.head(2)"
   ]
  },
  {
   "cell_type": "code",
   "execution_count": 501,
   "metadata": {},
   "outputs": [
    {
     "data": {
      "text/plain": [
       "Verbatim    1098\n",
       "VC1         2676\n",
       "VC2         5591\n",
       "VC3         6715\n",
       "VC4         7361\n",
       "VC5         7775\n",
       "VC6         7963\n",
       "VC7         8074\n",
       "VC8         8134\n",
       "VC9         8160\n",
       "VC10        8166\n",
       "target         0\n",
       "dtype: int64"
      ]
     },
     "execution_count": 501,
     "metadata": {},
     "output_type": "execute_result"
    }
   ],
   "source": [
    "df.isnull().sum()"
   ]
  },
  {
   "cell_type": "code",
   "execution_count": 502,
   "metadata": {},
   "outputs": [],
   "source": [
    "df = df.dropna(subset=[\"Verbatim\"], how=\"all\")\n"
   ]
  },
  {
   "cell_type": "code",
   "execution_count": 503,
   "metadata": {},
   "outputs": [
    {
     "name": "stderr",
     "output_type": "stream",
     "text": [
      "d:\\Intent Modelling\\custom_preprocessor.py:40: MarkupResemblesLocatorWarning: The input looks more like a filename than markup. You may want to open this file and pass the filehandle into Beautiful Soup.\n",
      "  if (bool(BeautifulSoup(text, \"html.parser\").find())==True):\n"
     ]
    }
   ],
   "source": [
    "#Preprocessing the verbatim\n",
    "preprocessor= cp.SpacyPreprocessor(model=\"en_core_web_sm\",lammetize=False, remove_stop=False)\n",
    "cleaned_text= preprocessor.fit_transform(df[\"Verbatim\"].values)"
   ]
  },
  {
   "cell_type": "code",
   "execution_count": 504,
   "metadata": {},
   "outputs": [],
   "source": [
    "df[\"cleaned_text\"]=cleaned_text"
   ]
  },
  {
   "cell_type": "code",
   "execution_count": 505,
   "metadata": {},
   "outputs": [
    {
     "data": {
      "text/html": [
       "<div>\n",
       "<style scoped>\n",
       "    .dataframe tbody tr th:only-of-type {\n",
       "        vertical-align: middle;\n",
       "    }\n",
       "\n",
       "    .dataframe tbody tr th {\n",
       "        vertical-align: top;\n",
       "    }\n",
       "\n",
       "    .dataframe thead th {\n",
       "        text-align: right;\n",
       "    }\n",
       "</style>\n",
       "<table border=\"1\" class=\"dataframe\">\n",
       "  <thead>\n",
       "    <tr style=\"text-align: right;\">\n",
       "      <th></th>\n",
       "      <th>Verbatim</th>\n",
       "      <th>VC1</th>\n",
       "      <th>VC2</th>\n",
       "      <th>VC3</th>\n",
       "      <th>VC4</th>\n",
       "      <th>VC5</th>\n",
       "      <th>VC6</th>\n",
       "      <th>VC7</th>\n",
       "      <th>VC8</th>\n",
       "      <th>VC9</th>\n",
       "      <th>VC10</th>\n",
       "      <th>target</th>\n",
       "      <th>cleaned_text</th>\n",
       "    </tr>\n",
       "  </thead>\n",
       "  <tbody>\n",
       "    <tr>\n",
       "      <th>0</th>\n",
       "      <td>Nothing has been resolved. We have been dealin...</td>\n",
       "      <td>RES</td>\n",
       "      <td>TIME</td>\n",
       "      <td>NaN</td>\n",
       "      <td>NaN</td>\n",
       "      <td>NaN</td>\n",
       "      <td>NaN</td>\n",
       "      <td>NaN</td>\n",
       "      <td>NaN</td>\n",
       "      <td>NaN</td>\n",
       "      <td>NaN</td>\n",
       "      <td>[RES, TIME, nan, nan, nan, nan, nan, nan, nan,...</td>\n",
       "      <td>nothing has been resolved we have been dealing...</td>\n",
       "    </tr>\n",
       "  </tbody>\n",
       "</table>\n",
       "</div>"
      ],
      "text/plain": [
       "                                            Verbatim  VC1   VC2  VC3  VC4  \\\n",
       "0  Nothing has been resolved. We have been dealin...  RES  TIME  NaN  NaN   \n",
       "\n",
       "   VC5  VC6  VC7  VC8  VC9 VC10  \\\n",
       "0  NaN  NaN  NaN  NaN  NaN  NaN   \n",
       "\n",
       "                                              target  \\\n",
       "0  [RES, TIME, nan, nan, nan, nan, nan, nan, nan,...   \n",
       "\n",
       "                                        cleaned_text  \n",
       "0  nothing has been resolved we have been dealing...  "
      ]
     },
     "execution_count": 505,
     "metadata": {},
     "output_type": "execute_result"
    }
   ],
   "source": [
    "df.head(1)"
   ]
  },
  {
   "cell_type": "code",
   "execution_count": 506,
   "metadata": {},
   "outputs": [],
   "source": [
    "df1=df[[\"cleaned_text\",\"target\"]]\n",
    "#df1=df[[\"Verbatim\",\"target\"]]"
   ]
  },
  {
   "cell_type": "code",
   "execution_count": 509,
   "metadata": {},
   "outputs": [
    {
     "data": {
      "text/html": [
       "<div>\n",
       "<style scoped>\n",
       "    .dataframe tbody tr th:only-of-type {\n",
       "        vertical-align: middle;\n",
       "    }\n",
       "\n",
       "    .dataframe tbody tr th {\n",
       "        vertical-align: top;\n",
       "    }\n",
       "\n",
       "    .dataframe thead th {\n",
       "        text-align: right;\n",
       "    }\n",
       "</style>\n",
       "<table border=\"1\" class=\"dataframe\">\n",
       "  <thead>\n",
       "    <tr style=\"text-align: right;\">\n",
       "      <th></th>\n",
       "      <th>cleaned_text</th>\n",
       "      <th>target</th>\n",
       "    </tr>\n",
       "  </thead>\n",
       "  <tbody>\n",
       "    <tr>\n",
       "      <th>0</th>\n",
       "      <td>nothing has been resolved we have been dealing...</td>\n",
       "      <td>[RES, TIME, nan, nan, nan, nan, nan, nan, nan,...</td>\n",
       "    </tr>\n",
       "    <tr>\n",
       "      <th>1</th>\n",
       "      <td>way too long waiting time   insane to wait 1 h...</td>\n",
       "      <td>[TIME, WAIT, nan, nan, nan, nan, nan, nan, nan...</td>\n",
       "    </tr>\n",
       "  </tbody>\n",
       "</table>\n",
       "</div>"
      ],
      "text/plain": [
       "                                        cleaned_text  \\\n",
       "0  nothing has been resolved we have been dealing...   \n",
       "1  way too long waiting time   insane to wait 1 h...   \n",
       "\n",
       "                                              target  \n",
       "0  [RES, TIME, nan, nan, nan, nan, nan, nan, nan,...  \n",
       "1  [TIME, WAIT, nan, nan, nan, nan, nan, nan, nan...  "
      ]
     },
     "execution_count": 509,
     "metadata": {},
     "output_type": "execute_result"
    }
   ],
   "source": [
    "df1.head(2)"
   ]
  },
  {
   "cell_type": "code",
   "execution_count": 589,
   "metadata": {},
   "outputs": [],
   "source": [
    "df1 = df1.dropna(subset=[\"target\"], how=\"all\", inplace=False)"
   ]
  },
  {
   "cell_type": "code",
   "execution_count": 592,
   "metadata": {},
   "outputs": [
    {
     "name": "stdout",
     "output_type": "stream",
     "text": [
      "['RES', 'TIME', nan, nan, nan, nan, nan, nan, nan, nan]\n",
      "['TIME', 'WAIT', nan, nan, nan, nan, nan, nan, nan, nan]\n",
      "['WARR', nan, nan, nan, nan, nan, nan, nan, nan, nan]\n",
      "['STORE', nan, nan, nan, nan, nan, nan, nan, nan, nan]\n",
      "['CREDIT', 'OWN', nan, nan, nan, nan, nan, nan, nan, nan]\n",
      "['STORE', 'WEB', nan, nan, nan, nan, nan, nan, nan, nan]\n",
      "['ESC', 'STORE', nan, nan, nan, nan, nan, nan, nan, nan]\n",
      "['SHPDLV', nan, nan, nan, nan, nan, nan, nan, nan, nan]\n",
      "['CREDIT', nan, nan, nan, nan, nan, nan, nan, nan, nan]\n",
      "['GNRL', nan, nan, nan, nan, nan, nan, nan, nan, nan]\n",
      "['KNOW', nan, nan, nan, nan, nan, nan, nan, nan, nan]\n",
      "['ORDER', nan, nan, nan, nan, nan, nan, nan, nan, nan]\n",
      "['PROD', nan, nan, nan, nan, nan, nan, nan, nan, nan]\n",
      "['PROD', 'TIME', 'WARR', nan, nan, nan, nan, nan, nan, nan]\n",
      "['PNK', nan, nan, nan, nan, nan, nan, nan, nan, nan]\n",
      "['HANG', 'TIME', nan, nan, nan, nan, nan, nan, nan, nan]\n",
      "['ESC', 'STORE', nan, nan, nan, nan, nan, nan, nan, nan]\n",
      "['MULTI', nan, nan, nan, nan, nan, nan, nan, nan, nan]\n",
      "['GNRL', 'LOY', 'RES', 'STORE', nan, nan, nan, nan, nan, nan]\n",
      "['STORE', nan, nan, nan, nan, nan, nan, nan, nan, nan]\n"
     ]
    }
   ],
   "source": [
    "for i, r in df1.head(20).iterrows():\n",
    "    print(r[\"target\"])"
   ]
  },
  {
   "cell_type": "code",
   "execution_count": 591,
   "metadata": {},
   "outputs": [],
   "source": [
    "df1 = df1[~(df1[\"target\"].apply(lambda x: x == [np.nan, np.nan, np.nan, np.nan, np.nan, np.nan, np.nan, np.nan, np.nan, np.nan]))]"
   ]
  },
  {
   "cell_type": "code",
   "execution_count": 593,
   "metadata": {},
   "outputs": [],
   "source": [
    "# Define the target labels\n",
    "target_labels = [\n",
    "    'ACC', 'ADV', 'APPT', 'AUTH', 'BILL', 'CANCEL', 'COMM/SOFT', 'CONN', 'CREDIT',\n",
    "    'CULT', 'DISP', 'DOC', 'EFF', 'ESC', 'GNRL', 'HANG', 'HOLD', 'INV', 'IVR',\n",
    "    'KNOW', 'LANG', 'LEGAL', 'LOY', 'MISINFO', 'MULTI', 'NOTIFY', 'ORDER', 'OWN',\n",
    "    'PARTS', 'PAY', 'PCHNL', 'PERM', 'PNK', 'POL', 'PRICE', 'PROC', 'PROD', 'PROF',\n",
    "    'PRSS', 'RENEW', 'RES', 'RETURN', 'REWARD', 'RSPNS', 'SALES', 'SCRIPT', 'SECURITY',\n",
    "    'SETEXP', 'SHPDLV', 'STORE', 'SUSP', 'TIME', 'TOOLS', 'TRANSF', 'WAIT', 'WARR',\n",
    "    'WEB'\n",
    "]\n",
    "\n",
    "# Initialize and fit the MultiLabelBinarizer\n",
    "mlb = MultiLabelBinarizer()\n",
    "encoded_targets = mlb.fit_transform(df1['target'].apply(lambda x: [label for label in x if label in target_labels]))\n",
    "\n"
   ]
  },
  {
   "cell_type": "code",
   "execution_count": 594,
   "metadata": {},
   "outputs": [],
   "source": [
    "X=df1[\"cleaned_text\"]\n",
    "#X=df1[\"Verbatim\"]\n",
    "y=encoded_targets"
   ]
  },
  {
   "cell_type": "code",
   "execution_count": 595,
   "metadata": {},
   "outputs": [],
   "source": [
    "X_train,X_test1,y_train,y_test1=train_test_split(X,y,test_size=0.2,random_state=42)"
   ]
  },
  {
   "cell_type": "code",
   "execution_count": 596,
   "metadata": {},
   "outputs": [],
   "source": [
    "X_test, X_valid, y_test, y_valid = train_test_split(X_test1, y_test1, test_size= 0.5, random_state= 0)"
   ]
  },
  {
   "cell_type": "code",
   "execution_count": 597,
   "metadata": {},
   "outputs": [],
   "source": [
    "#Creating a Custom Dataset \n",
    "class CustomDataset(torch.utils.data.Dataset):\n",
    "\n",
    "    def __init__(self,X,y):\n",
    "        self.X=np.array(X)\n",
    "        self.y=y\n",
    "    \n",
    "    def __len__(self):\n",
    "        return(len(self.X))\n",
    "    \n",
    "    def __getitem__(self,idx):\n",
    "        if torch.is_tensor(idx):\n",
    "            idx=idx.tolist()\n",
    "        text=self.X[idx]\n",
    "        labels=self.y[idx]\n",
    "        sample=(text,labels)\n",
    "        return sample"
   ]
  },
  {
   "cell_type": "code",
   "execution_count": 598,
   "metadata": {},
   "outputs": [
    {
     "data": {
      "text/plain": [
       "pandas.core.series.Series"
      ]
     },
     "execution_count": 598,
     "metadata": {},
     "output_type": "execute_result"
    }
   ],
   "source": [
    "type(X_train)"
   ]
  },
  {
   "cell_type": "code",
   "execution_count": 599,
   "metadata": {},
   "outputs": [],
   "source": [
    "train_set=CustomDataset(X_train,y_train)\n",
    "valid_set=CustomDataset(X_valid,y_valid)\n",
    "test_Set=CustomDataset(X_test,y_test)\n"
   ]
  },
  {
   "cell_type": "code",
   "execution_count": 600,
   "metadata": {},
   "outputs": [
    {
     "name": "stdout",
     "output_type": "stream",
     "text": [
      "3523 441 440\n"
     ]
    }
   ],
   "source": [
    "print(len(train_set),len(valid_set),len(test_Set))"
   ]
  },
  {
   "cell_type": "code",
   "execution_count": 601,
   "metadata": {},
   "outputs": [],
   "source": [
    "#Vectorizing using tfidf vectorizer\n",
    "vectorizer=TfidfVectorizer(stop_words=\"english\",min_df=4,max_features=5000).fit(X_train)"
   ]
  },
  {
   "cell_type": "code",
   "execution_count": 602,
   "metadata": {},
   "outputs": [],
   "source": [
    "X_train_vec=vectorizer.transform(X_train)\n",
    "X_test_vec=vectorizer.transform(X_test)\n",
    "X_valid_vec=vectorizer.transform(X_valid)"
   ]
  },
  {
   "cell_type": "code",
   "execution_count": 603,
   "metadata": {},
   "outputs": [
    {
     "data": {
      "text/plain": [
       "scipy.sparse._csr.csr_matrix"
      ]
     },
     "execution_count": 603,
     "metadata": {},
     "output_type": "execute_result"
    }
   ],
   "source": [
    "type(X_train_vec)"
   ]
  },
  {
   "cell_type": "code",
   "execution_count": 604,
   "metadata": {},
   "outputs": [],
   "source": [
    "#Converting to Tensor\n",
    "X_train_tensor=torch.tensor(X_train_vec.toarray()).float()\n",
    "X_valid_tensor=torch.tensor(X_valid_vec.toarray()).float()\n",
    "X_test_tensor=torch.tensor(X_test_vec.toarray()).float()"
   ]
  },
  {
   "cell_type": "code",
   "execution_count": 605,
   "metadata": {},
   "outputs": [],
   "source": [
    "y_train_tensor=torch.tensor(np.array(y_train)).long()\n",
    "y_valid_tensor=torch.tensor(np.array(y_valid)).long()\n",
    "y_test_tensor=torch.tensor(np.array(y_test)).long()\n"
   ]
  },
  {
   "cell_type": "code",
   "execution_count": 606,
   "metadata": {},
   "outputs": [],
   "source": [
    "#Creating a torch dataset\n",
    "train_set =torch.utils.data.TensorDataset(X_train_tensor,y_train_tensor)\n",
    "valid_set=torch.utils.data.TensorDataset(X_valid_tensor,y_valid_tensor)\n",
    "test_set=torch.utils.data.TensorDataset(X_test_tensor,y_test_tensor)"
   ]
  },
  {
   "cell_type": "code",
   "execution_count": 607,
   "metadata": {},
   "outputs": [],
   "source": [
    "#Creating Model\n",
    "\n",
    "class Model(nn.Module):\n",
    "\n",
    "    def __init__(self,input_dim,hidden_dim1,hidden_dim2,output_dim,non_linearity):\n",
    "        self.input_dim=input_dim\n",
    "        self.hidden_dim1=hidden_dim1\n",
    "        self.hidden_dim2=hidden_dim2\n",
    "        self.output_dim=output_dim\n",
    "        self.non_linearity=non_linearity\n",
    "\n",
    "        super().__init__()\n",
    "\n",
    "        #hidden layer1\n",
    "        self.hidden_layer1=nn.Linear(self.input_dim,self.hidden_dim1)\n",
    "        #hidden layer2\n",
    "        self.hidden_layer2=nn.Linear(self.hidden_dim1,self.hidden_dim2)\n",
    "        #output layer\n",
    "        self.output_layer=nn.Linear(self.hidden_dim2,self.output_dim)\n",
    "\n",
    "    def forward(self,input):\n",
    "        hout1=self.non_linearity(self.hidden_layer1(input))\n",
    "        hout2=self.non_linearity(self.hidden_layer2(hout1))\n",
    "        ypred=self.output_layer(hout2)\n",
    "\n",
    "        return ypred"
   ]
  },
  {
   "cell_type": "code",
   "execution_count": 608,
   "metadata": {},
   "outputs": [],
   "source": [
    "#Training model for each epoch \n",
    "def train(train_loader, model,optimizer,loss_function,log_batch,log_interval,grad_clipping,max_norm):\n",
    "\n",
    "    #initializing variable as global \n",
    "    #Count will be updated for every epoch\n",
    "    global example_ct_train\n",
    "    global batch_ct_train\n",
    "\n",
    "    #Training loop \n",
    "    #Initializing the train_loss at the the start of the epoch\n",
    "    running_train_loss=0\n",
    "\n",
    "    #Put model in training mode\n",
    "    model.train()\n",
    "\n",
    "    #Iterate on batches from the dataset using train_loader\n",
    "    for input,targets in train_loader:\n",
    "        # move inputs and outputs to GPUs\n",
    "        input = input.to(device)\n",
    "        targets = targets.to(device)\n",
    "\n",
    "        #Forward pass\n",
    "        output=model(input)\n",
    "        loss=loss_function(output,targets.float())\n",
    "\n",
    "        example_ct_train += len(targets)\n",
    "        batch_ct_train+=1\n",
    "\n",
    "        #set gradients to zero\n",
    "        optimizer.zero_grad()\n",
    "\n",
    "        #backward pass\n",
    "        loss.backward()\n",
    "\n",
    "        #Gradient clipping\n",
    "        if grad_clipping:\n",
    "            nn.utils.clip_grad_norm(model.parameters(),max_norm=max_norm,norm_type=2)\n",
    "\n",
    "        #Update the parameters using their gradients\n",
    "        optimizer.step()\n",
    "\n",
    "        running_train_loss += loss.item()\n",
    "\n",
    "        if log_batch:\n",
    "            if((batch_ct_train+1) % log_interval)==0:\n",
    "                wandb.log({f\"Train Batch Loss: \":loss})\n",
    "    \n",
    "    #Calculate the mean train loss for the whole dataset for a particular epoch\n",
    "    train_loss = running_train_loss/len(train_loader)\n",
    "\n",
    "    return train_loss\n",
    "\n"
   ]
  },
  {
   "cell_type": "code",
   "execution_count": 609,
   "metadata": {},
   "outputs": [],
   "source": [
    "def valid(loader,model,optimizer,loss_function,log_batch,log_interval):\n",
    "\n",
    "    #initialize variable as global\n",
    "    # these counts will be updated every epoch\n",
    "    global example_ct_valid\n",
    "    global batch_ct_valid\n",
    "\n",
    "    #Validation Loop \n",
    "    #Intialize train_loss at the start of the epoch\n",
    "    running_valid_loss = 0\n",
    "\n",
    "    #put model in the evaluation mode\n",
    "    model.eval()\n",
    "\n",
    "    with torch.no_grad():\n",
    "        for input,targets in loader:\n",
    "\n",
    "            # move inputs and outputs to GPUs\n",
    "            input = input.to(device)\n",
    "            targets = targets.to(device)   \n",
    "\n",
    "            #Forward pass\n",
    "            output=model(input)\n",
    "            loss=loss_function(output,targets.float())\n",
    "\n",
    "            #count of images and batches \n",
    "            example_ct_valid += len(targets)\n",
    "            batch_ct_valid +=1\n",
    "\n",
    "            #Add valid loss of a batch\n",
    "            running_valid_loss +=loss.item()\n",
    "\n",
    "            #log batch loss and accuracy\n",
    "            if log_batch:\n",
    "                if ((batch_ct_valid + 1) % log_interval) == 0:\n",
    "                    wandb.log({f\"Valid Batch Loss :\": loss})\n",
    "\n",
    "            #Calculate mean valid loss for the whole dataset for particular epoch\n",
    "            valid_loss = running_valid_loss/len(loader)\n",
    "\n",
    "        return valid_loss\n"
   ]
  },
  {
   "cell_type": "code",
   "execution_count": 610,
   "metadata": {},
   "outputs": [],
   "source": [
    "#Defining the training loop\n",
    "\n",
    "def train_loop(train_loader,valid_loader, model,loss_function,optimizer, epochs,device, patience, early_stopping, file_model):\n",
    "     '''\n",
    "  model: specify your model for training\n",
    "  criterion: loss function \n",
    "  optimizer: optimizer like SGD , ADAM etc.\n",
    "  train loader: function to carete batches for training data\n",
    "  valid loader : function to create batches for valid data set\n",
    "  file_model : specify file name for saving your model. This way we can upload the model weights from file. We will not to run model again.\n",
    "  \n",
    "\n",
    "  '''\n",
    "     #Create a list to store the train and valid loss at each epoch\n",
    "     train_loss_history = []\n",
    "     valid_loss_history=[]\n",
    "\n",
    "     delta=0\n",
    "     best_score=None\n",
    "     valid_loss_min =np.Inf\n",
    "     counter_early_stop=0\n",
    "     early_stop=False\n",
    "\n",
    "\n",
    "     #Iterate for a given number of epochs \n",
    "     for epoch in range(epochs):\n",
    "          t0=datetime.now()\n",
    "\n",
    "          #Get train loss and accuracy for one epoch\n",
    "\n",
    "          train_loss= train(train_loader,model,optimizer, loss_function,wandb.config.LOG_BATCH,wandb.config.LOG_INTERVAL,wandb.config.GRAD_CLIPPING,wandb.config.MAX_NORM)\n",
    "\n",
    "          valid_loss= valid(valid_loader, model, optimizer, loss_function,wandb.config.LOG_BATCH,wandb.config.LOG_INTERVAL)\n",
    "\n",
    "          dt=datetime.now()-t0\n",
    "\n",
    "          #Save history of losses and accuracy\n",
    "          train_loss_history.append(train_loss)\n",
    "\n",
    "          valid_loss_history.append(valid_loss)\n",
    "\n",
    "          if early_stopping:\n",
    "               score= -valid_loss\n",
    "               if best_score is None:\n",
    "                    best_score=score\n",
    "                    print(f'Validation loss has decreased ({valid_loss_min:.6f} --> {valid_loss:.6f}). Saving Model..')\n",
    "                    torch.save(model.state_dict(),file_model)\n",
    "                    valid_loss_min=valid_loss\n",
    "\n",
    "               elif score<best_score+delta:\n",
    "                     counter_early_stop+=1\n",
    "                     print(f\"Early Stopping counter: {counter_early_stop} out of {patience}\")\n",
    "                     if counter_early_stop > patience:\n",
    "                          early_stop=True\n",
    "\n",
    "               else:\n",
    "                    best_score=score\n",
    "                    print(f\"Validationn loss had decreased ({valid_loss_min:.6f}) --> {valid_loss:.6f}). Saving model.. \")\n",
    "                    torch.save(model.state_dict(),file_model)\n",
    "                    counter_early_stop=0\n",
    "                    valid_loss_min=valid_loss\n",
    "               \n",
    "               if early_stop:\n",
    "                    print(\"Early Stopping\")\n",
    "                    break\n",
    "          else:\n",
    "               score = -valid_loss\n",
    "               if best_score is None:\n",
    "                    best_score=score\n",
    "                    print(f\"Validation loss has decreased ({valid_loss_min:.6f}) --> {valid_loss:.6f}). Saving Model..\")\n",
    "                    torch.save(model.state_dict(),file_model)\n",
    "                    valid_loss_min=valid_loss\n",
    "\n",
    "               elif score<best_score+delta:\n",
    "                    print(f\"Validation score has not decreased ({valid_loss_min:.6f} --> {valid_loss:.6f}). Not Saving Model..\")\n",
    "\n",
    "               else:\n",
    "                    best_score = score\n",
    "                    print(f\"Validation loss has decreased ({valid_loss_min:.6f}--> {valid_loss:.6f}). Saving Model\")\n",
    "                    torch.save(model.state_dict(),file_model)\n",
    "                    valid_loss_min=valid_loss\n",
    "\n",
    "          #Log the train and valid loss to W&B\n",
    "          wandb.log({f\"Train epoch loss:\":train_loss, f\"Valid epoch Loss :\":valid_loss})\n",
    "\n",
    "          #Print the train loss and accuracy for given number of epochs, batch size and number of samples\n",
    "          print(f\"Epochs : {epoch+1} / {epochs}\")\n",
    "          print(f\"Time to complete {epoch+1} is {dt}\")\n",
    "\n",
    "          print(f\"Train loss:  {train_loss: .4f}\")\n",
    "\n",
    "          print(f\"Valid lodd: {valid_loss : .4f}\")\n",
    "\n",
    "          print()\n",
    "\n",
    "          torch.cuda.empty_cache()\n",
    "      \n",
    "     return train_loss_history, valid_loss_history\n",
    "               \n",
    "\n",
    "                    \n",
    "               \n",
    "            \n",
    "               \n",
    "               \n",
    "\n",
    "          "
   ]
  },
  {
   "cell_type": "code",
   "execution_count": 618,
   "metadata": {},
   "outputs": [],
   "source": [
    "#Hyperparameters\n",
    "hyperparameters= SimpleNamespace(\n",
    "    INPUT_DIM = train_set.tensors[0].shape[1],\n",
    "    OUTPUT_DIM = 47,\n",
    "    HIDDEN_DIM1 = 512,\n",
    "    HIDDEN_DIM2 = 256,\n",
    "    NON_LINEARITY= F.relu,\n",
    "    EPOCHS = 40,\n",
    "    \n",
    "    BATCH_SIZE = 256,\n",
    "    LEARNING_RATE = 0.01,\n",
    "    DATASET=\"Multilabel\",\n",
    "    ARCHITECTUREe=\"IntentModelling\",\n",
    "    LOG_INTERVAL = 25,\n",
    "    LOG_BATCH = True,\n",
    "    FILE_MODEL = 'IntentModel.pt',\n",
    "    GRAD_CLIPPING = False,\n",
    "    MAX_NORM = 0,\n",
    "    MOMENTUM = 0,\n",
    "    PATIENCE = 5,\n",
    "    EARLY_STOPPING = True,\n",
    "    # SCHEDULER_FACTOR = 0,\n",
    "    # SCHEDULER_PATIENCE = 0,\n",
    "    WEIGHT_DECAY = 0\n",
    "\n",
    ")"
   ]
  },
  {
   "cell_type": "code",
   "execution_count": 619,
   "metadata": {},
   "outputs": [
    {
     "data": {
      "text/html": [
       "Finishing last run (ID:zzi9ypwn) before initializing another..."
      ],
      "text/plain": [
       "<IPython.core.display.HTML object>"
      ]
     },
     "metadata": {},
     "output_type": "display_data"
    },
    {
     "data": {
      "text/html": [
       "Waiting for W&B process to finish... <strong style=\"color:green\">(success).</strong>"
      ],
      "text/plain": [
       "<IPython.core.display.HTML object>"
      ]
     },
     "metadata": {},
     "output_type": "display_data"
    },
    {
     "data": {
      "text/html": [
       " View run <strong style=\"color:#cdcd00\">Intent Modelling</strong> at: <a href='https://wandb.ai/aswin1903/NLP/runs/zzi9ypwn' target=\"_blank\">https://wandb.ai/aswin1903/NLP/runs/zzi9ypwn</a><br/>Synced 5 W&B file(s), 0 media file(s), 0 artifact file(s) and 0 other file(s)"
      ],
      "text/plain": [
       "<IPython.core.display.HTML object>"
      ]
     },
     "metadata": {},
     "output_type": "display_data"
    },
    {
     "data": {
      "text/html": [
       "Find logs at: <code>.\\wandb\\run-20230717_154745-zzi9ypwn\\logs</code>"
      ],
      "text/plain": [
       "<IPython.core.display.HTML object>"
      ]
     },
     "metadata": {},
     "output_type": "display_data"
    },
    {
     "data": {
      "text/html": [
       "Successfully finished last run (ID:zzi9ypwn). Initializing new run:<br/>"
      ],
      "text/plain": [
       "<IPython.core.display.HTML object>"
      ]
     },
     "metadata": {},
     "output_type": "display_data"
    },
    {
     "data": {
      "text/html": [
       "Tracking run with wandb version 0.15.5"
      ],
      "text/plain": [
       "<IPython.core.display.HTML object>"
      ]
     },
     "metadata": {},
     "output_type": "display_data"
    },
    {
     "data": {
      "text/html": [
       "Run data is saved locally in <code>d:\\Intent Modelling\\wandb\\run-20230717_155131-lx93dksw</code>"
      ],
      "text/plain": [
       "<IPython.core.display.HTML object>"
      ]
     },
     "metadata": {},
     "output_type": "display_data"
    },
    {
     "data": {
      "text/html": [
       "Syncing run <strong><a href='https://wandb.ai/aswin1903/NLP/runs/lx93dksw' target=\"_blank\">Intent Modelling</a></strong> to <a href='https://wandb.ai/aswin1903/NLP' target=\"_blank\">Weights & Biases</a> (<a href='https://wandb.me/run' target=\"_blank\">docs</a>)<br/>"
      ],
      "text/plain": [
       "<IPython.core.display.HTML object>"
      ]
     },
     "metadata": {},
     "output_type": "display_data"
    },
    {
     "data": {
      "text/html": [
       " View project at <a href='https://wandb.ai/aswin1903/NLP' target=\"_blank\">https://wandb.ai/aswin1903/NLP</a>"
      ],
      "text/plain": [
       "<IPython.core.display.HTML object>"
      ]
     },
     "metadata": {},
     "output_type": "display_data"
    },
    {
     "data": {
      "text/html": [
       " View run at <a href='https://wandb.ai/aswin1903/NLP/runs/lx93dksw' target=\"_blank\">https://wandb.ai/aswin1903/NLP/runs/lx93dksw</a>"
      ],
      "text/plain": [
       "<IPython.core.display.HTML object>"
      ]
     },
     "metadata": {},
     "output_type": "display_data"
    },
    {
     "data": {
      "text/html": [
       "<button onClick=\"this.nextSibling.style.display='block';this.style.display='none';\">Display W&B run</button><iframe src='https://wandb.ai/aswin1903/NLP/runs/lx93dksw?jupyter=true' style='border:none;width:100%;height:420px;display:none;'></iframe>"
      ],
      "text/plain": [
       "<wandb.sdk.wandb_run.Run at 0x15519b61450>"
      ]
     },
     "execution_count": 619,
     "metadata": {},
     "output_type": "execute_result"
    }
   ],
   "source": [
    "#Initialize new Project \n",
    "import random\n",
    "wandb.init(name=\"Intent Modelling\", project=\"NLP\")\n"
   ]
  },
  {
   "cell_type": "code",
   "execution_count": 620,
   "metadata": {},
   "outputs": [],
   "source": [
    "wandb.config=hyperparameters\n",
    "non_linearity=F.relu\n",
    "wandb.Config.NON_LINEARITY = non_linearity"
   ]
  },
  {
   "cell_type": "code",
   "execution_count": 621,
   "metadata": {},
   "outputs": [
    {
     "data": {
      "text/plain": [
       "wandb.sdk.wandb_config.Config"
      ]
     },
     "execution_count": 621,
     "metadata": {},
     "output_type": "execute_result"
    }
   ],
   "source": [
    "wandb.Config"
   ]
  },
  {
   "cell_type": "code",
   "execution_count": 622,
   "metadata": {},
   "outputs": [],
   "source": [
    "#Fix seed value \n",
    "SEED=1234\n",
    "random.seed(SEED)\n",
    "np.random.seed(SEED)\n",
    "torch.manual_seed(SEED)\n",
    "torch.cuda.manual_seed(SEED)\n",
    "torch.backends.cudnn.deterministic=True\n",
    "\n",
    "#DATA Loaders\n",
    "train_loader=torch.utils.data.DataLoader(train_set,batch_size=wandb.config.BATCH_SIZE,shuffle=True,num_workers=4)\n",
    "valid_loader=torch.utils.data.DataLoader(valid_set,batch_size=wandb.config.BATCH_SIZE,shuffle=True,num_workers=4)\n",
    "test_loader=torch.utils.data.DataLoader(test_Set,batch_size=wandb.config.BATCH_SIZE,shuffle=True,num_workers=4)\n",
    "\n",
    "#Cross entropy loss function\n",
    "loss_function= nn.BCEWithLogitsLoss()\n",
    "\n",
    "#use GPU\n",
    "device=torch.device(\"cuda:0\" if torch.cuda.is_available() else \"cpu\")\n",
    "wandb.config.DEVICE=device\n",
    "\n",
    "#Model\n",
    "model=Model(wandb.config.INPUT_DIM, wandb.config.HIDDEN_DIM1, wandb.config.HIDDEN_DIM2, wandb.config.OUTPUT_DIM, wandb.config.NON_LINEARITY)\n",
    "\n",
    "model.to(wandb.config.DEVICE)\n",
    "\n",
    "def init_weights(m):\n",
    "    if type(m) == nn.Linear:\n",
    "        torch.nn.init.kaiming_normal_(m.weight)\n",
    "        torch.nn.init.zeros_(m.bias)\n",
    "\n",
    "#Apply initialization recursively to all modules\n",
    "model.apply(init_weights)\n",
    "\n",
    "#Initialize stochiastic gradient descent optimizer\n",
    "optimizer = torch.optim.Adam(model.parameters(),lr=wandb.config.LEARNING_RATE,weight_decay=wandb.config.WEIGHT_DECAY)\n",
    "\n",
    "wandb.config.OPTIMIZER = optimizer\n",
    "\n"
   ]
  },
  {
   "cell_type": "code",
   "execution_count": 623,
   "metadata": {},
   "outputs": [
    {
     "name": "stdout",
     "output_type": "stream",
     "text": [
      "Actual loss: 0.6940403580665588\n",
      "Expected Theoretical loss: 0.6931471805599453\n"
     ]
    }
   ],
   "source": [
    "#Sanity Check \n",
    "for input_, targets in train_loader:\n",
    "  \n",
    "  # move inputs and outputs to GPUs\n",
    "  input_ = input_.to(device)\n",
    "  targets = targets.to(device)\n",
    "  model.eval()\n",
    "  # Forward pass\n",
    "  output = model(input_)\n",
    "  loss = loss_function(output, targets.float())\n",
    "  print(f'Actual loss: {loss}')\n",
    "  break\n",
    "\n",
    "print(f'Expected Theoretical loss: {np.log(2)}')"
   ]
  },
  {
   "cell_type": "code",
   "execution_count": 624,
   "metadata": {},
   "outputs": [
    {
     "name": "stderr",
     "output_type": "stream",
     "text": [
      "\u001b[34m\u001b[1mwandb\u001b[0m: logging graph, to disable use `wandb.watch(log_graph=False)`\n"
     ]
    },
    {
     "data": {
      "text/plain": [
       "[<wandb.wandb_torch.TorchGraph at 0x15502ae0810>]"
      ]
     },
     "execution_count": 624,
     "metadata": {},
     "output_type": "execute_result"
    }
   ],
   "source": [
    "#Training model\n",
    "wandb.watch(model, log = 'all', log_freq=25, log_graph=True)"
   ]
  },
  {
   "cell_type": "code",
   "execution_count": 625,
   "metadata": {},
   "outputs": [
    {
     "name": "stdout",
     "output_type": "stream",
     "text": [
      "Validation loss has decreased (inf --> 0.160976). Saving Model..\n",
      "Epochs : 1 / 40\n",
      "Time to complete 1 is 0:00:08.029995\n",
      "Train loss:   0.2679\n",
      "Valid lodd:  0.1610\n",
      "\n",
      "Validationn loss had decreased (0.160976) --> 0.133566). Saving model.. \n",
      "Epochs : 2 / 40\n",
      "Time to complete 2 is 0:00:08.325032\n",
      "Train loss:   0.1484\n",
      "Valid lodd:  0.1336\n",
      "\n",
      "Validationn loss had decreased (0.133566) --> 0.111194). Saving model.. \n",
      "Epochs : 3 / 40\n",
      "Time to complete 3 is 0:00:08.712187\n",
      "Train loss:   0.1137\n",
      "Valid lodd:  0.1112\n",
      "\n",
      "Validationn loss had decreased (0.111194) --> 0.098767). Saving model.. \n",
      "Epochs : 4 / 40\n",
      "Time to complete 4 is 0:00:08.838708\n",
      "Train loss:   0.0806\n",
      "Valid lodd:  0.0988\n",
      "\n",
      "Validationn loss had decreased (0.098767) --> 0.094533). Saving model.. \n",
      "Epochs : 5 / 40\n",
      "Time to complete 5 is 0:00:08.768711\n",
      "Train loss:   0.0521\n",
      "Valid lodd:  0.0945\n",
      "\n",
      "Early Stopping counter: 1 out of 5\n",
      "Epochs : 6 / 40\n",
      "Time to complete 6 is 0:00:08.798331\n",
      "Train loss:   0.0303\n",
      "Valid lodd:  0.1025\n",
      "\n",
      "Early Stopping counter: 2 out of 5\n",
      "Epochs : 7 / 40\n",
      "Time to complete 7 is 0:00:08.974663\n",
      "Train loss:   0.0165\n",
      "Valid lodd:  0.1082\n",
      "\n",
      "Early Stopping counter: 3 out of 5\n",
      "Epochs : 8 / 40\n",
      "Time to complete 8 is 0:00:09.294406\n",
      "Train loss:   0.0087\n",
      "Valid lodd:  0.1215\n",
      "\n",
      "Early Stopping counter: 4 out of 5\n",
      "Epochs : 9 / 40\n",
      "Time to complete 9 is 0:00:09.041106\n",
      "Train loss:   0.0049\n",
      "Valid lodd:  0.1329\n",
      "\n",
      "Early Stopping counter: 5 out of 5\n",
      "Epochs : 10 / 40\n",
      "Time to complete 10 is 0:00:09.189037\n",
      "Train loss:   0.0030\n",
      "Valid lodd:  0.1422\n",
      "\n",
      "Early Stopping counter: 6 out of 5\n",
      "Early Stopping\n"
     ]
    }
   ],
   "source": [
    "example_ct_train,batch_ct_train, example_ct_valid,batch_ct_valid = 0, 0, 0, 0\n",
    "\n",
    "train_loss_history, valid_loss_history = train_loop(train_loader, valid_loader, \n",
    "                                                                                          model,\n",
    "                                                                                          loss_function, \n",
    "                                                                                          optimizer, \n",
    "                                                                                          wandb.config.EPOCHS, \n",
    "                                                                                          wandb.config.DEVICE,\n",
    "                                                                                          wandb.config.PATIENCE, \n",
    "                                                                                          wandb.config.EARLY_STOPPING,\n",
    "                                                                                          wandb.config.FILE_MODEL)"
   ]
  },
  {
   "cell_type": "code",
   "execution_count": 626,
   "metadata": {},
   "outputs": [
    {
     "data": {
      "image/png": "[encoded data removed]",
      "text/plain": [
       "<Figure size 640x480 with 1 Axes>"
      ]
     },
     "metadata": {},
     "output_type": "display_data"
    }
   ],
   "source": [
    "#LOSS PLOT\n",
    "# Plot the train loss and test loss per iteration\n",
    "import matplotlib.pyplot as plt \n",
    "fig = plt.figure(0)\n",
    "plt.plot(train_loss_history, label = 'train loss')\n",
    "plt.plot(valid_loss_history, label = 'valid loss')\n",
    "plt.legend()\n",
    "\n",
    "# Log the plot to W&B\n",
    "wandb.log({\"train-test loss per epoch\": wandb.Image(plt)})"
   ]
  },
  {
   "cell_type": "code",
   "execution_count": 627,
   "metadata": {},
   "outputs": [
    {
     "data": {
      "text/plain": [
       "<All keys matched successfully>"
      ]
     },
     "execution_count": 627,
     "metadata": {},
     "output_type": "execute_result"
    }
   ],
   "source": [
    "model_nn = Model(wandb.config.INPUT_DIM, wandb.config.HIDDEN_DIM1, wandb.config.HIDDEN_DIM2, wandb.config.OUTPUT_DIM, non_linearity)\n",
    "model_nn.to(device)\n",
    "model_nn.load_state_dict(torch.load(wandb.config.FILE_MODEL))"
   ]
  },
  {
   "cell_type": "code",
   "execution_count": 566,
   "metadata": {},
   "outputs": [],
   "source": [
    "#wandb.finish()"
   ]
  },
  {
   "cell_type": "code",
   "execution_count": 628,
   "metadata": {},
   "outputs": [],
   "source": [
    "def evaluate_model(data_loader, model, device):\n",
    "    \"\"\" \n",
    "    Function to evaluate the performance of a given model on a dataset\n",
    "    Input: Data iterator, Model, Device (CPU or GPU)\n",
    "    Output: Predictions, Actual labels, Classification report, F1 score\n",
    "    \"\"\"\n",
    "    # Array to store predicted labels\n",
    "    predictions = torch.Tensor().to(device)\n",
    "\n",
    "    # Array to store actual labels\n",
    "    y_true = torch.Tensor().to(device)\n",
    "\n",
    "    model.eval()  # Set the model to evaluation mode\n",
    "\n",
    "    with torch.no_grad():\n",
    "        for input_, targets in data_loader:\n",
    "            input_ = input_.to(device)\n",
    "            targets = targets.to(device)\n",
    "\n",
    "            output = model(input_)\n",
    "            prediction = torch.sigmoid(output)\n",
    "            indices = (prediction >= 0.5).float()  # Threshold predictions\n",
    "\n",
    "            # Add the predicted labels to the array\n",
    "            predictions = torch.cat((predictions, indices))\n",
    "\n",
    "            # Add the actual labels to the array\n",
    "            y_true = torch.cat((y_true, targets))\n",
    "\n",
    "    # Convert tensors to numpy arrays\n",
    "    predictions = predictions.cpu().numpy()\n",
    "    y_true = y_true.cpu().numpy()\n",
    "\n",
    "    # Generate classification report\n",
    "    report = classification_report(y_true, predictions, target_names=[\"class1\", \"class2\", ...])\n",
    "\n",
    "    # Calculate F1 score\n",
    "    f1 = f1_score(y_true, predictions, average=\"weighted\")\n",
    "\n",
    "    return predictions, y_true, report, f1"
   ]
  },
  {
   "cell_type": "code",
   "execution_count": 629,
   "metadata": {},
   "outputs": [],
   "source": [
    "##Function for Accuracy\n",
    "\n",
    "def get_acc_pred(data_loader, model,device):\n",
    "    \n",
    "  \"\"\" \n",
    "  Function to get predictions and accuracy for a given data using estimated model\n",
    "  Input: Data iterator, Final estimated weoights, bias\n",
    "  Output: Precditions and Accuracy for given dataset\n",
    "  \"\"\"\n",
    "\n",
    "  # Array to store predicted labels\n",
    "  predictions = torch.Tensor() # empty tensor\n",
    "  predictions = predictions.to(device) # move predictions to GPU\n",
    "\n",
    "  # Array to store actual labels\n",
    "  y = torch.Tensor() # empty tensor\n",
    "  y = y.to(device)\n",
    "\n",
    "  total=0\n",
    "  correct=0\n",
    "  # Iterate over batches from data iterator\n",
    "  with torch.no_grad():\n",
    "    for input_, targets in data_loader:\n",
    "      \n",
    "      # move inputs and outputs to GPUs\n",
    "      \n",
    "      input_ = input_.to(device)\n",
    "      targets = targets.to(device)\n",
    "      \n",
    "      # Calculated the predicted labels\n",
    "      output = model(input_)\n",
    "\n",
    "      # Choose the label with maximum probability\n",
    "      prediction = torch.sigmoid(output)\n",
    "      indices=prediction\n",
    "      indices[indices>0.5]=1\n",
    "      indices[indices<0.5]=0\n",
    "\n",
    "      # Add the predicted labels to the array\n",
    "      predictions = torch.cat((predictions, indices)) \n",
    "\n",
    "      # Add the actual labels to the array\n",
    "      y = torch.cat((y, targets))\n",
    "\n",
    "      predicted = np.round(prediction) #keep in mind that np.round() is a round to even function\n",
    "      total += targets.size(0)\n",
    "      #print(\"Target: \",targets.size(0))\n",
    "      #print(\"Predicted: \",predicted)\n",
    "      #print(\"Target: \", targets)\n",
    "      #calculate how many images were correctly classified\n",
    "      correct += (predicted == targets).sum().item()\n",
    "      #print(correct)\n",
    "  accuracy=100.0* (correct/total)\n",
    "  print(\"Accuracy: {}%\".format(accuracy))\n",
    "  # Check for complete dataset if actual and predicted labels are same or not\n",
    "  # Calculate accuracy\n",
    "  #acc = (predictions == y).float().mean()\n",
    "\n",
    "  # Return tuple containing predictions and accuracy\n",
    "  return predictions, y"
   ]
  },
  {
   "cell_type": "code",
   "execution_count": 630,
   "metadata": {},
   "outputs": [],
   "source": [
    "#Function for predictions\n",
    "def get_predictions(data_loader, model,device):\n",
    "    # Array to store predicted labels\n",
    "    predictions = torch.Tensor() # empty tensor\n",
    "    predictions = predictions.to(device) # move predictions to GPU\n",
    "\n",
    "    with torch.no_grad():\n",
    "        for input_ in data_loader:\n",
    "        \n",
    "            # move inputs and outputs to GPUs\n",
    "        \n",
    "            input_ = input_.to(device)\n",
    "            #targets = targets.to(device)\n",
    "            \n",
    "            # Calculated the predicted labels\n",
    "            output = model(input_)\n",
    "\n",
    "            # Choose the label with maximum probability\n",
    "            prediction = torch.sigmoid(output)\n",
    "            indices=prediction\n",
    "            indices[indices>0.5]=1\n",
    "            indices[indices<0.5]=0\n",
    "\n",
    "            # Add the predicted labels to the array\n",
    "            predictions = torch.cat((predictions, indices)) \n",
    "        return predictions\n",
    "    "
   ]
  },
  {
   "cell_type": "code",
   "execution_count": 631,
   "metadata": {},
   "outputs": [
    {
     "name": "stdout",
     "output_type": "stream",
     "text": [
      "Accuracy: 4649.560034061879%\n"
     ]
    }
   ],
   "source": [
    "pred_train, y_train = get_acc_pred(train_loader, model_nn, device)"
   ]
  },
  {
   "cell_type": "code",
   "execution_count": 632,
   "metadata": {},
   "outputs": [],
   "source": [
    "#predictions, y_true, report, f1 = evaluate_model(train_loader, model_nn, device)"
   ]
  },
  {
   "cell_type": "code",
   "execution_count": 633,
   "metadata": {},
   "outputs": [
    {
     "name": "stdout",
     "output_type": "stream",
     "text": [
      "Weighted F1 score: 0.83\n"
     ]
    }
   ],
   "source": [
    "print(\"Weighted F1 score: {:.2f}\".format(f1_score(y_true= y_train, y_pred= pred_train, average= 'weighted')))"
   ]
  },
  {
   "cell_type": "code",
   "execution_count": 634,
   "metadata": {},
   "outputs": [
    {
     "name": "stderr",
     "output_type": "stream",
     "text": [
      "d:\\Intent Modelling\\custom_preprocessor.py:40: MarkupResemblesLocatorWarning: The input looks more like a filename than markup. You may want to open this file and pass the filehandle into Beautiful Soup.\n",
      "  if (bool(BeautifulSoup(text, \"html.parser\").find())==True):\n"
     ]
    }
   ],
   "source": [
    "#making predictions\n",
    "#Converting to Tensor\n",
    "test=pd.read_excel(\"dataset.xlsx\",sheet_name=\"data4\")\n",
    "\n",
    "test_cleaned_text= preprocessor.transform(test[\"Verbatim\"].values)\n",
    "test_cleaned_vec=vectorizer.transform(test_cleaned_text)\n",
    "\n",
    "test_cleaned_tensor=torch.tensor(test_cleaned_vec.toarray()).float()"
   ]
  },
  {
   "cell_type": "code",
   "execution_count": 635,
   "metadata": {},
   "outputs": [],
   "source": [
    "pred_loader=torch.utils.data.DataLoader(test_cleaned_tensor,batch_size=wandb.config.BATCH_SIZE,shuffle=False,num_workers=4)"
   ]
  },
  {
   "cell_type": "code",
   "execution_count": 636,
   "metadata": {},
   "outputs": [],
   "source": [
    "result=get_predictions(pred_loader,model_nn,device)"
   ]
  },
  {
   "cell_type": "code",
   "execution_count": 637,
   "metadata": {},
   "outputs": [
    {
     "data": {
      "text/plain": [
       "132"
      ]
     },
     "execution_count": 637,
     "metadata": {},
     "output_type": "execute_result"
    }
   ],
   "source": [
    "len(result)"
   ]
  },
  {
   "cell_type": "code",
   "execution_count": 638,
   "metadata": {},
   "outputs": [],
   "source": [
    "test[\"predictions\"]=mlb.inverse_transform(result)"
   ]
  },
  {
   "cell_type": "code",
   "execution_count": 639,
   "metadata": {},
   "outputs": [
    {
     "data": {
      "text/html": [
       "<div>\n",
       "<style scoped>\n",
       "    .dataframe tbody tr th:only-of-type {\n",
       "        vertical-align: middle;\n",
       "    }\n",
       "\n",
       "    .dataframe tbody tr th {\n",
       "        vertical-align: top;\n",
       "    }\n",
       "\n",
       "    .dataframe thead th {\n",
       "        text-align: right;\n",
       "    }\n",
       "</style>\n",
       "<table border=\"1\" class=\"dataframe\">\n",
       "  <thead>\n",
       "    <tr style=\"text-align: right;\">\n",
       "      <th></th>\n",
       "      <th>Verbatim</th>\n",
       "      <th>predictions</th>\n",
       "    </tr>\n",
       "  </thead>\n",
       "  <tbody>\n",
       "    <tr>\n",
       "      <th>0</th>\n",
       "      <td>Javier was great but was clear that his hands ...</td>\n",
       "      <td>(PROD,)</td>\n",
       "    </tr>\n",
       "    <tr>\n",
       "      <th>1</th>\n",
       "      <td>my problem has to do with my veterans discount...</td>\n",
       "      <td>(LANG,)</td>\n",
       "    </tr>\n",
       "    <tr>\n",
       "      <th>2</th>\n",
       "      <td>If you ship me a broken product I should not h...</td>\n",
       "      <td>(GNRL, TIME, WAIT)</td>\n",
       "    </tr>\n",
       "    <tr>\n",
       "      <th>3</th>\n",
       "      <td>It was disappointing to receive the item in su...</td>\n",
       "      <td>(GNRL, STORE)</td>\n",
       "    </tr>\n",
       "    <tr>\n",
       "      <th>4</th>\n",
       "      <td>Allow an online or chat version for people tha...</td>\n",
       "      <td>(KNOW,)</td>\n",
       "    </tr>\n",
       "  </tbody>\n",
       "</table>\n",
       "</div>"
      ],
      "text/plain": [
       "                                            Verbatim         predictions\n",
       "0  Javier was great but was clear that his hands ...             (PROD,)\n",
       "1  my problem has to do with my veterans discount...             (LANG,)\n",
       "2  If you ship me a broken product I should not h...  (GNRL, TIME, WAIT)\n",
       "3  It was disappointing to receive the item in su...       (GNRL, STORE)\n",
       "4  Allow an online or chat version for people tha...             (KNOW,)"
      ]
     },
     "execution_count": 639,
     "metadata": {},
     "output_type": "execute_result"
    }
   ],
   "source": [
    "test.head()"
   ]
  },
  {
   "cell_type": "code",
   "execution_count": 640,
   "metadata": {},
   "outputs": [],
   "source": [
    "count=0\n",
    "for i in test[\"predictions\"]:\n",
    "    if \"GNRL\" in i:\n",
    "        count+=1"
   ]
  },
  {
   "cell_type": "code",
   "execution_count": 647,
   "metadata": {},
   "outputs": [],
   "source": [
    "test[test[\"predictions\"]!=()].to_csv(\"ModelGeneratedResponse.csv\")"
   ]
  },
  {
   "cell_type": "code",
   "execution_count": null,
   "metadata": {},
   "outputs": [],
   "source": []
  }
 ],
 "metadata": {
  "kernelspec": {
   "display_name": "DeepL",
   "language": "python",
   "name": "python3"
  },
  "language_info": {
   "codemirror_mode": {
    "name": "ipython",
    "version": 3
   },
   "file_extension": ".py",
   "mimetype": "text/x-python",
   "name": "python",
   "nbconvert_exporter": "python",
   "pygments_lexer": "ipython3",
   "version": "3.11.4"
  },
  "orig_nbformat": 4
 },
 "nbformat": 4,
 "nbformat_minor": 2
}
